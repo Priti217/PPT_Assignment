{
 "cells": [
  {
   "cell_type": "markdown",
   "id": "6bdff8d7",
   "metadata": {},
   "source": [
    "## Q.1. Given an integer array nums of 2n integers, group these integers into n pairs (a1, b1), (a2, b2),..., (an, bn) such that the sum of min(ai, bi) for all i is maximized. Return the maximized sum.\n",
    "\n",
    "**Example 1:**\n",
    "Input: nums = [1,4,3,2]\n",
    "Output: 4\n",
    "\n",
    "**Explanation:** All possible pairings (ignoring the ordering of elements) are:\n",
    "\n",
    "1. (1, 4), (2, 3) -> min(1, 4) + min(2, 3) = 1 + 2 = 3\n",
    "2. (1, 3), (2, 4) -> min(1, 3) + min(2, 4) = 1 + 2 = 3\n",
    "3. (1, 2), (3, 4) -> min(1, 2) + min(3, 4) = 1 + 3 = 4\n",
    "So the maximum possible sum is 4\n",
    "</aside>"
   ]
  },
  {
   "cell_type": "code",
   "execution_count": 1,
   "id": "d21faaed",
   "metadata": {},
   "outputs": [],
   "source": [
    "def arrayPairSum1(nums):\n",
    "        nums.sort()\n",
    "        return sum(nums[::2])"
   ]
  },
  {
   "cell_type": "code",
   "execution_count": 2,
   "id": "f5284dc4",
   "metadata": {},
   "outputs": [
    {
     "data": {
      "text/plain": [
       "5"
      ]
     },
     "execution_count": 2,
     "metadata": {},
     "output_type": "execute_result"
    }
   ],
   "source": [
    "arrayPairSum1([1,6,4,2])"
   ]
  },
  {
   "cell_type": "markdown",
   "id": "bad12286",
   "metadata": {},
   "source": [
    "### Time Complexity : O(nlogn)\n",
    "### Space Complexity : O(1)"
   ]
  },
  {
   "cell_type": "markdown",
   "id": "caac99e5",
   "metadata": {},
   "source": [
    "## ========================================================================="
   ]
  },
  {
   "cell_type": "markdown",
   "id": "09dead70",
   "metadata": {},
   "source": [
    "## Q.2.Alice has n candies, where the ith candy is of type candyType[i]. Alice noticed that she started to gain weight, so she visited a doctor. The doctor advised Alice to only eat n / 2 of the candies she has (n is always even). Alice likes her candies very much, and she wants to eat the maximum number of different types of candies while still following the doctor's advice. Given the integer array candyType of length n, return the maximum number of different types of candies she can eat if she only eats n / 2 of them.\n",
    "\n",
    "Example 1:\n",
    "Input: candyType = [1,1,2,2,3,3]\n",
    "Output: 3\n",
    "\n",
    "Explanation: Alice can only eat 6 / 2 = 3 candies. Since there are only 3 types, she can eat one of each type."
   ]
  },
  {
   "cell_type": "code",
   "execution_count": 3,
   "id": "8a560647",
   "metadata": {},
   "outputs": [],
   "source": [
    "from typing import List\n",
    "def distributeCandies(C: List[int]) -> int:\n",
    "        return min(len(set(C)), len(C) // 2)"
   ]
  },
  {
   "cell_type": "code",
   "execution_count": 4,
   "id": "9beb6f81",
   "metadata": {},
   "outputs": [
    {
     "data": {
      "text/plain": [
       "2"
      ]
     },
     "execution_count": 4,
     "metadata": {},
     "output_type": "execute_result"
    }
   ],
   "source": [
    "distributeCandies([1,1,2,3])"
   ]
  },
  {
   "cell_type": "markdown",
   "id": "ee60717d",
   "metadata": {},
   "source": [
    "### Time Complexity : O(n)\n",
    "### Sapce Complexity : O(n)"
   ]
  },
  {
   "cell_type": "markdown",
   "id": "8a0bbdd1",
   "metadata": {},
   "source": [
    "## ========================================================================="
   ]
  },
  {
   "cell_type": "markdown",
   "id": "6164271c",
   "metadata": {},
   "source": [
    "## Q.3.We define a harmonious array as an array where the difference between its maximum valueand its minimum value is exactly 1.Given an integer array nums, return the length of its longest harmonious subsequenceamong all its possible subsequences.A subsequence of an array is a sequence that can be derived from the array by deleting some or no elements without changing the order of the remaining elements.\n",
    "\n",
    "Example 1:\n",
    "Input: nums = [1,3,2,2,5,2,3,7]\n",
    "Output: 5\n",
    "\n",
    "Explanation: The longest harmonious subsequence is [3,2,2,2,3]."
   ]
  },
  {
   "cell_type": "code",
   "execution_count": 5,
   "id": "00ff7dd4",
   "metadata": {},
   "outputs": [],
   "source": [
    "def findLHS(nums):\n",
    "        numsLen, result = len(nums), 0\n",
    "        counts = {}\n",
    "        for val in nums:\n",
    "            if val in counts:\n",
    "                counts[val] += 1\n",
    "            else:\n",
    "                counts[val] = 1\n",
    "            inc = val + 1\n",
    "            dec = val - 1\n",
    "            if dec in counts:\n",
    "                result = max(result, counts[val] + counts[dec])\n",
    "            if inc in counts:\n",
    "                result = max(result, counts[val] + counts[inc])\n",
    "        return result"
   ]
  },
  {
   "cell_type": "code",
   "execution_count": 6,
   "id": "a9a8a5db",
   "metadata": {},
   "outputs": [
    {
     "data": {
      "text/plain": [
       "5"
      ]
     },
     "execution_count": 6,
     "metadata": {},
     "output_type": "execute_result"
    }
   ],
   "source": [
    "findLHS([1,3,2,2,5,2,3,7])"
   ]
  },
  {
   "cell_type": "markdown",
   "id": "9029a74e",
   "metadata": {},
   "source": [
    "### Time Complexity : O(n)\n",
    "### Sapce Complexity : O(n)"
   ]
  },
  {
   "cell_type": "markdown",
   "id": "c53ad3ca",
   "metadata": {},
   "source": [
    "## ========================================================================"
   ]
  },
  {
   "cell_type": "markdown",
   "id": "f8dc4057",
   "metadata": {},
   "source": [
    "## Q.4. You have a long flowerbed in which some of the plots are planted, and some are not.However, flowers cannot be planted in adjacent plots.Given an integer array flowerbed containing 0's and 1's, where 0 means empty and 1 means not empty, and an integer n, return true if n new flowers can be planted in the flowerbed without violating the no-adjacent-flowers rule and false otherwise.\n",
    "\n",
    "Example 1:\n",
    "Input: flowerbed = [1,0,0,0,1], n = 1\n",
    "Output: true"
   ]
  },
  {
   "cell_type": "code",
   "execution_count": 7,
   "id": "07d49df6",
   "metadata": {},
   "outputs": [],
   "source": [
    "def canPlaceFlowers(flowerbed: List[int], n: int) -> bool:\n",
    "    for i, flower in enumerate(flowerbed):\n",
    "      if flower == 0 and (i == 0 or flowerbed[i - 1] == 0) and (i == len(flowerbed) - 1 or flowerbed[i + 1] == 0):\n",
    "        flowerbed[i] = 1\n",
    "        n -= 1\n",
    "      if n <= 0:\n",
    "        return True\n",
    "\n",
    "    return False"
   ]
  },
  {
   "cell_type": "code",
   "execution_count": 8,
   "id": "2d6c0e6c",
   "metadata": {},
   "outputs": [
    {
     "data": {
      "text/plain": [
       "False"
      ]
     },
     "execution_count": 8,
     "metadata": {},
     "output_type": "execute_result"
    }
   ],
   "source": [
    "canPlaceFlowers([1,0,0,0,1],2)"
   ]
  },
  {
   "cell_type": "markdown",
   "id": "46ce39b8",
   "metadata": {},
   "source": [
    "### Time Complexity : O(n)\n",
    "### Space Complexity : O(1)\n"
   ]
  },
  {
   "cell_type": "markdown",
   "id": "4bbdc11f",
   "metadata": {},
   "source": [
    "## ========================================================================="
   ]
  },
  {
   "cell_type": "markdown",
   "id": "4335419a",
   "metadata": {},
   "source": [
    "## Q.5. Given an integer array nums, find three numbers whose product is maximum and return the maximum product.\n",
    "\n",
    "Example 1:\n",
    "Input: nums = [1,2,3]\n",
    "Output: 6"
   ]
  },
  {
   "cell_type": "code",
   "execution_count": 9,
   "id": "798d9550",
   "metadata": {},
   "outputs": [],
   "source": [
    "def findTriplet(A):\n",
    "    A.sort()\n",
    "    n = len(A)\n",
    "    if n <= 2:\n",
    "        print(\"No triplet exists. The array has less than 3 elements.\")\n",
    " \n",
    "    if A[n - 1] * A[n - 2] * A[n - 3] > A[0] * A[1] * A[n - 1]:\n",
    "        print(A[n-1]*A[n-2]*A[n-3])    "
   ]
  },
  {
   "cell_type": "code",
   "execution_count": 10,
   "id": "f14c6460",
   "metadata": {},
   "outputs": [
    {
     "name": "stdout",
     "output_type": "stream",
     "text": [
      "1200\n"
     ]
    }
   ],
   "source": [
    "findTriplet([10,3,5,6,20])"
   ]
  },
  {
   "cell_type": "markdown",
   "id": "f3102b51",
   "metadata": {},
   "source": [
    "### Time complexity : O(n log n)\n",
    "###  Space Complexity : O(n)"
   ]
  },
  {
   "cell_type": "markdown",
   "id": "7ca4f1ab",
   "metadata": {},
   "source": [
    "## ========================================================================="
   ]
  },
  {
   "cell_type": "markdown",
   "id": "164b2c49",
   "metadata": {},
   "source": [
    "## Q.6.Given an array of integers nums which is sorted in ascending order, and an integer target,write a function to search target in nums. If target exists, then return its index. Otherwise,return -1.You must write an algorithm with O(log n) runtime complexity.\n",
    "\n",
    "Input: nums = [-1,0,3,5,9,12], target = 9\n",
    "Output: 4\n",
    "\n",
    "Explanation: 9 exists in nums and its index is 4"
   ]
  },
  {
   "cell_type": "code",
   "execution_count": 11,
   "id": "cd00907f",
   "metadata": {},
   "outputs": [],
   "source": [
    "def search(nums: List[int], target: int):\n",
    "        left, right = 0, len(nums)-1\n",
    "        while left <= right:\n",
    "            mid = left + (right-left)//2\n",
    "            if nums[mid] == target:\n",
    "                return mid\n",
    "            elif target > nums[mid]:\n",
    "                left = mid + 1\n",
    "            else:\n",
    "                right = mid - 1\n",
    "                \n",
    "        return -1"
   ]
  },
  {
   "cell_type": "code",
   "execution_count": 12,
   "id": "e8491ac7",
   "metadata": {},
   "outputs": [
    {
     "data": {
      "text/plain": [
       "5"
      ]
     },
     "execution_count": 12,
     "metadata": {},
     "output_type": "execute_result"
    }
   ],
   "source": [
    "search( [-1,0,3,5,9,12], 12)"
   ]
  },
  {
   "cell_type": "markdown",
   "id": "78794d65",
   "metadata": {},
   "source": [
    "## ========================================================================="
   ]
  },
  {
   "cell_type": "markdown",
   "id": "cff9f538",
   "metadata": {},
   "source": [
    "## Q.7.An array is monotonic if it is either monotone increasing or monotone decreasing.An array nums is monotone increasing if for all i <= j, nums[i] <= nums[j]. An array nums ismonotone decreasing if for all i <= j, nums[i] >= nums[j].Given an integer array nums, return true if the given array is monotonic, or false otherwise.\n",
    "\n",
    "Example 1:\n",
    "Input: nums = [1,2,2,3]\n",
    "Output: true"
   ]
  },
  {
   "cell_type": "code",
   "execution_count": 13,
   "id": "9869e3a7",
   "metadata": {},
   "outputs": [],
   "source": [
    "def check1(arr):\n",
    "    N = len(arr)\n",
    "    inc=True\n",
    "    dec=True\n",
    "    for i in range(0, N-1):\n",
    "        if arr[i] > arr[i+1]:\n",
    "            inc=False\n",
    "    for i in range(0, N-1):       \n",
    "        if arr[i] < arr[i+1]:\n",
    "            dec = False\n",
    "    return inc or dec"
   ]
  },
  {
   "cell_type": "code",
   "execution_count": 14,
   "id": "05d44fbd",
   "metadata": {},
   "outputs": [
    {
     "data": {
      "text/plain": [
       "True"
      ]
     },
     "execution_count": 14,
     "metadata": {},
     "output_type": "execute_result"
    }
   ],
   "source": [
    "check1([1,2,4,5])"
   ]
  },
  {
   "cell_type": "markdown",
   "id": "c321c8f5",
   "metadata": {},
   "source": [
    "### Time Complexity : O(n)\n",
    "###  Space Complexity :O(1)"
   ]
  },
  {
   "cell_type": "markdown",
   "id": "5970aaad",
   "metadata": {},
   "source": [
    "## ========================================================================="
   ]
  },
  {
   "cell_type": "markdown",
   "id": "3ea12779",
   "metadata": {},
   "source": [
    "## Q.8. You are given an integer array nums and an integer k.In one operation, you can choose any index i where 0 <= i < nums.length and change nums[i] to nums[i] + x where x is an integer from the range [-k, k]. You can apply this operation at most once for each index i.The score of nums is the difference between the maximum and minimum elements in nums.Return the minimum score of nums after applying the mentioned operation at most once for each index in it.\n",
    "\n",
    "Example 1:\n",
    "Input: nums = [1], k = 0\n",
    "Output: 0\n",
    "\n",
    "Explanation: The score is max(nums) - min(nums) = 1 - 1 = 0."
   ]
  },
  {
   "cell_type": "code",
   "execution_count": 15,
   "id": "74219aea",
   "metadata": {},
   "outputs": [],
   "source": [
    "def minDiff1(arr,k):\n",
    "    n=len(arr)\n",
    "    a = []\n",
    "    arr.sort()\n",
    "    for i in range(len(arr)):\n",
    "        if arr[i] <=k:\n",
    "            a.append(arr[i]+k)\n",
    "        else:\n",
    "            a.append(arr[i]-k)\n",
    "    for j in range(len(a)):\n",
    "        k = max(a)-min(a)\n",
    "    print(k)"
   ]
  },
  {
   "cell_type": "code",
   "execution_count": 16,
   "id": "a2f14ecc",
   "metadata": {},
   "outputs": [
    {
     "name": "stdout",
     "output_type": "stream",
     "text": [
      "0\n"
     ]
    }
   ],
   "source": [
    "minDiff1([1],0)"
   ]
  },
  {
   "cell_type": "markdown",
   "id": "c05b461f",
   "metadata": {},
   "source": [
    "### Time Complexity : O(n)\n",
    "### Space Complexity : O(n)"
   ]
  },
  {
   "cell_type": "code",
   "execution_count": null,
   "id": "4cc00b45",
   "metadata": {},
   "outputs": [],
   "source": []
  }
 ],
 "metadata": {
  "kernelspec": {
   "display_name": "Python 3 (ipykernel)",
   "language": "python",
   "name": "python3"
  },
  "language_info": {
   "codemirror_mode": {
    "name": "ipython",
    "version": 3
   },
   "file_extension": ".py",
   "mimetype": "text/x-python",
   "name": "python",
   "nbconvert_exporter": "python",
   "pygments_lexer": "ipython3",
   "version": "3.9.12"
  }
 },
 "nbformat": 4,
 "nbformat_minor": 5
}
