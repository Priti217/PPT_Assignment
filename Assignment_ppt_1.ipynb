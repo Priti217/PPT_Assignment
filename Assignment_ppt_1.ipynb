{
 "cells": [
  {
   "cell_type": "markdown",
   "id": "ade15588",
   "metadata": {},
   "source": [
    "## Q.1.Given an array of integers nums and an integer target, return indices of the two numbers such that they add up to target.You may assume that each input would have exactly one solution, and you may not use the same element twice.You can return the answer in any order.\n",
    "\n",
    "**Example:**\n",
    "Input: nums = [2,7,11,15], target = 9\n",
    "Output0 [0,1]\n",
    "\n",
    "**Explanation:** Because nums[0] + nums[1] == 9, we return [0, 1]["
   ]
  },
  {
   "cell_type": "code",
   "execution_count": 1,
   "id": "787ae165",
   "metadata": {},
   "outputs": [],
   "source": [
    "from typing import List\n",
    "def twoSum(nums: List[int], target: int) -> List[int]:\n",
    "        hashmap = {}\n",
    "        for i in range(len(nums)):\n",
    "            complement = target - nums[i]\n",
    "            if complement in hashmap:\n",
    "                return [hashmap[complement],i]\n",
    "            hashmap[nums[i]] = i"
   ]
  },
  {
   "cell_type": "code",
   "execution_count": 2,
   "id": "26c377ce",
   "metadata": {},
   "outputs": [
    {
     "data": {
      "text/plain": [
       "[0, 1]"
      ]
     },
     "execution_count": 2,
     "metadata": {},
     "output_type": "execute_result"
    }
   ],
   "source": [
    "twoSum([2,7,11,15],9)"
   ]
  },
  {
   "cell_type": "markdown",
   "id": "559f08cd",
   "metadata": {},
   "source": [
    "#### Time complexity: O(n)\n",
    "#### Space complexity: O(n)"
   ]
  },
  {
   "cell_type": "markdown",
   "id": "36068bd1",
   "metadata": {},
   "source": [
    "## ========================================================================="
   ]
  },
  {
   "cell_type": "markdown",
   "id": "7a05b27a",
   "metadata": {},
   "source": [
    "## Q.2. Given an integer array nums and an integer val, remove all occurrences of val in nums in-place. The order of the elements may be changed. Then return the number of elements in nums which are not equal to val.Consider the number of elements in nums which are not equal to val be k, to get accepted, you need to do the following things:\n",
    "- Change the array nums such that the first k elements of nums contain the elements which are not equal to val. The remaining elements of nums are not important as well as the size of nums.\n",
    "- Return k.\n",
    "\n",
    "**Example :**\n",
    "Input: nums = [3,2,2,3], val = 3\n",
    "Output: 2, nums = [2,2,_*,_*]\n",
    "\n",
    "**Explanation:** Your function should return k = 2, with the first two elements of nums being 2. It does not matter what you leave beyond the returned k (hence they are underscores)["
   ]
  },
  {
   "cell_type": "code",
   "execution_count": 3,
   "id": "32240240",
   "metadata": {},
   "outputs": [],
   "source": [
    "from typing import List\n",
    "def remove(nums: List[int], val: int) -> List[int]:\n",
    "  count = 0\n",
    "  num1 = []\n",
    "  for i in range(len(nums)):\n",
    "    if nums[i] != val:\n",
    "      nums[count]=nums[i]\n",
    "      num1.append(nums[i])\n",
    "      count +=1\n",
    "  for j in num1:\n",
    "    if len(num1) != len(nums):\n",
    "      num1.append('_')\n",
    "  print(f\"count: {count} , nums: {num1}\")\n",
    "    "
   ]
  },
  {
   "cell_type": "code",
   "execution_count": 4,
   "id": "2a308277",
   "metadata": {},
   "outputs": [
    {
     "name": "stdout",
     "output_type": "stream",
     "text": [
      "count: 5 , nums: [0, 1, 3, 0, 4, '_', '_', '_']\n"
     ]
    }
   ],
   "source": [
    "remove([0,1,2,2,3,0,4,2],2)"
   ]
  },
  {
   "cell_type": "markdown",
   "id": "a8b291e9",
   "metadata": {},
   "source": [
    "#### Time complexity: O(n)\n",
    "#### Space complexity: O(n)"
   ]
  },
  {
   "cell_type": "markdown",
   "id": "2f1bc551",
   "metadata": {},
   "source": [
    "## ========================================================================="
   ]
  },
  {
   "cell_type": "markdown",
   "id": "02bfbafb",
   "metadata": {},
   "source": [
    "## Q.3 Given a sorted array of distinct integers and a target value, return the index if the target is found. If not, return the index where it would be if it were inserted in order.You must write an algorithm with O(log n) runtime complexity.\n",
    "\n",
    "**Example 1:**\n",
    "Input: nums = [1,3,5,6], target = 5\n",
    "\n",
    "Output: 2\n",
    "\n",
    "</aside>"
   ]
  },
  {
   "cell_type": "code",
   "execution_count": 5,
   "id": "c532da8d",
   "metadata": {},
   "outputs": [],
   "source": [
    "def find_index(arr, K):\n",
    " \n",
    "    # Lower and upper bounds\n",
    "    start = 0\n",
    "    end = len(arr) - 1\n",
    " \n",
    "    # Traverse the search space\n",
    "    while start<= end:\n",
    " \n",
    "        mid =(start + end)//2\n",
    " \n",
    "        if arr[mid] == K:\n",
    "            return mid\n",
    " \n",
    "        elif arr[mid] < K:\n",
    "            start = mid + 1\n",
    "        else:\n",
    "            end = mid-1\n",
    " \n",
    "    # Return the insert position\n",
    "    return end + 1"
   ]
  },
  {
   "cell_type": "code",
   "execution_count": 6,
   "id": "797cb127",
   "metadata": {},
   "outputs": [
    {
     "data": {
      "text/plain": [
       "2"
      ]
     },
     "execution_count": 6,
     "metadata": {},
     "output_type": "execute_result"
    }
   ],
   "source": [
    "find_index([1,3,5,6],4)"
   ]
  },
  {
   "cell_type": "markdown",
   "id": "61746d41",
   "metadata": {},
   "source": [
    "#### Time complexity: O(log n)\n",
    "#### Space complexity: O(n)"
   ]
  },
  {
   "cell_type": "markdown",
   "id": "f20125f4",
   "metadata": {},
   "source": [
    "## ========================================================================"
   ]
  },
  {
   "cell_type": "markdown",
   "id": "6b90c319",
   "metadata": {},
   "source": [
    "## Q.4.You are given a large integer represented as an integer array digits, where each digits[i] is the ith digit of the integer. The digits are ordered from most significant to least significant in left-to-right order. The large integer does not contain any leading 0's.Increment the large integer by one and return the resulting array of digits.\n",
    "\n",
    "**Example 1:**\n",
    "Input: digits = [1,2,3]\n",
    "Output: [1,2,4]\n",
    "\n",
    "**Explanation:** The array represents the integer 123.\n",
    "\n",
    "Incrementing by one gives 123 + 1 = 124.\n",
    "Thus, the result should be [1,2,4]"
   ]
  },
  {
   "cell_type": "code",
   "execution_count": 7,
   "id": "acf2e1eb",
   "metadata": {},
   "outputs": [],
   "source": [
    "def plusOne(digits):\n",
    "        digit_length = len(digits)\n",
    "        \n",
    "        i = digit_length - 1\n",
    "        \n",
    "        while digits[i] == 9 and i >= 0:\n",
    "            i -= 1\n",
    "        \n",
    "        if i == -1:\n",
    "            results = [0]*(digit_length + 1)\n",
    "            results[0] = 1\n",
    "            return results\n",
    "        \n",
    "        results = [0]*(digit_length)\n",
    "        \n",
    "        results[i] = digits[i] + 1\n",
    "        \n",
    "        for j in range(i-1, -1, -1):\n",
    "            results[j] = digits[j]\n",
    "        \n",
    "        return results"
   ]
  },
  {
   "cell_type": "code",
   "execution_count": 8,
   "id": "20a06217",
   "metadata": {},
   "outputs": [
    {
     "data": {
      "text/plain": [
       "[1, 9, 0]"
      ]
     },
     "execution_count": 8,
     "metadata": {},
     "output_type": "execute_result"
    }
   ],
   "source": [
    "plusOne([1,8,9])"
   ]
  },
  {
   "cell_type": "markdown",
   "id": "c3ef0aa9",
   "metadata": {},
   "source": [
    "### Time complexity : O(n)\n",
    "### Space Complexity : O(n+1)"
   ]
  },
  {
   "cell_type": "markdown",
   "id": "8e5488e4",
   "metadata": {},
   "source": [
    "## ======================================================================="
   ]
  },
  {
   "cell_type": "markdown",
   "id": "9fd104da",
   "metadata": {},
   "source": [
    "## Q5. You are given two integer arrays nums1 and nums2, sorted in non-decreasing order, and two integers m and n, representing the number of elements in nums1 and nums2 respectively.Merge nums1 and nums2 into a single array sorted in non-decreasing order.The final sorted array should not be returned by the function, but instead be stored inside the array nums1. To accommodate this, nums1 has a length of m + n, where the first m elements denote the elements that should be merged, and the last n elements are set to 0 and should be ignored. nums2 has a length of n.\n",
    "\n",
    "**Example 1:**\n",
    "Input: nums1 = [1,2,3,0,0,0], m = 3, nums2 = [2,5,6], n = 3\n",
    "Output: [1,2,2,3,5,6]\n",
    "\n",
    "**Explanation:** The arrays we are merging are [1,2,3] and [2,5,6].\n",
    "The result of the merge is [1,2,2,3,5,6] with the underlined elements coming from nums1.\n",
    "\n",
    "</aside>"
   ]
  },
  {
   "cell_type": "code",
   "execution_count": 9,
   "id": "55369750",
   "metadata": {},
   "outputs": [],
   "source": [
    "def merge(nums1: List[int], m: int, nums2: List[int], n: int) -> None:\n",
    "        k = m + n - 1\n",
    "        i, j = m - 1, n - 1\n",
    "        while j >= 0:\n",
    "            if i >= 0 and nums1[i] > nums2[j]:\n",
    "                nums1[k] = nums1[i]\n",
    "                i -= 1\n",
    "            else:\n",
    "                nums1[k] = nums2[j]\n",
    "                j -= 1\n",
    "            k -= 1\n",
    "        return nums1"
   ]
  },
  {
   "cell_type": "code",
   "execution_count": 10,
   "id": "28aee135",
   "metadata": {},
   "outputs": [
    {
     "data": {
      "text/plain": [
       "[1, 2, 2, 3, 5, 6]"
      ]
     },
     "execution_count": 10,
     "metadata": {},
     "output_type": "execute_result"
    }
   ],
   "source": [
    "merge([1,2,3,0,0,0],3,[2,5,6],3)"
   ]
  },
  {
   "cell_type": "markdown",
   "id": "57f22cd5",
   "metadata": {},
   "source": [
    "### Time Complexity : O(m+n)\n",
    "### Space Complexity : O(1)"
   ]
  },
  {
   "cell_type": "markdown",
   "id": "e3e3ebd1",
   "metadata": {},
   "source": [
    "## ======================================================================="
   ]
  },
  {
   "cell_type": "markdown",
   "id": "f5959a94",
   "metadata": {},
   "source": [
    "## Q6.Given an integer array nums, return true if any value appears at least twice in the array, and return false if every element is distinct.\n",
    "\n",
    "**Example 1:**\n",
    "Input: nums = [1,2,3,1]\n",
    "\n",
    "Output: true\n",
    "\n",
    "</aside>"
   ]
  },
  {
   "cell_type": "code",
   "execution_count": 11,
   "id": "d583a207",
   "metadata": {},
   "outputs": [],
   "source": [
    "def containsDuplicate(nums: List[int]):\n",
    "        data = set()\n",
    "        for i in nums:\n",
    "            if i in data:\n",
    "                return True\n",
    "            data.add(i)\n",
    "        return False"
   ]
  },
  {
   "cell_type": "code",
   "execution_count": 12,
   "id": "86d21c42",
   "metadata": {},
   "outputs": [
    {
     "data": {
      "text/plain": [
       "True"
      ]
     },
     "execution_count": 12,
     "metadata": {},
     "output_type": "execute_result"
    }
   ],
   "source": [
    "containsDuplicate([2,3,4,3])"
   ]
  },
  {
   "cell_type": "markdown",
   "id": "683034a8",
   "metadata": {},
   "source": [
    "### Time Complexity : O(n)\n",
    "### Space Complexity : O(n)"
   ]
  },
  {
   "cell_type": "markdown",
   "id": "463a9934",
   "metadata": {},
   "source": [
    "## ======================================================================="
   ]
  },
  {
   "cell_type": "markdown",
   "id": "62a05b0c",
   "metadata": {},
   "source": [
    "## Q7.Given an integer array nums, move all 0's to the end of it while maintaining the relative order of the nonzero elements.Note that you must do this in-place without making a copy of the array.\n",
    "\n",
    "**Example 1:**\n",
    "Input: nums = [0,1,0,3,12]\n",
    "Output: [1,3,12,0,0]\n",
    "\n",
    "</aside>"
   ]
  },
  {
   "cell_type": "code",
   "execution_count": 13,
   "id": "7fafd0b5",
   "metadata": {},
   "outputs": [],
   "source": [
    "def pushZerosToEnd(arr):\n",
    "    count = 0 \n",
    "    for i in range(len(arr)):\n",
    "        if arr[i] != 0:\n",
    "            arr[count] = arr[i]\n",
    "            count+=1\n",
    "    while count < len(arr):\n",
    "        arr[count] = 0\n",
    "        count += 1\n",
    "    print(arr)   "
   ]
  },
  {
   "cell_type": "code",
   "execution_count": 14,
   "id": "a18528af",
   "metadata": {},
   "outputs": [
    {
     "name": "stdout",
     "output_type": "stream",
     "text": [
      "[1, 3, 12, 0, 0]\n"
     ]
    }
   ],
   "source": [
    "pushZerosToEnd([0,1,0,3,12])"
   ]
  },
  {
   "cell_type": "markdown",
   "id": "dd5ee1f9",
   "metadata": {},
   "source": [
    "### Time Complexity : O(n)\n",
    "### Sapce complexity : O(1)"
   ]
  },
  {
   "cell_type": "markdown",
   "id": "d29f5863",
   "metadata": {},
   "source": [
    "## ========================================================================"
   ]
  },
  {
   "cell_type": "markdown",
   "id": "2c5eba36",
   "metadata": {},
   "source": [
    "## Q.8.You have a set of integers s, which originally contains all the numbers from 1 to n. Unfortunately, due to some error, one of the numbers in s got duplicated to another number in the set, which results in repetition of one number and loss of another number.You are given an integer array nums representing the data status of this set after the error.Find the number that occurs twice and the number that is missing and return them in the form of an array.\n",
    "\n",
    "**Example 1:**\n",
    "Input: nums = [1,2,2,4]\n",
    "Output: [2,3]\n",
    "\n",
    "</aside>"
   ]
  },
  {
   "cell_type": "code",
   "execution_count": 15,
   "id": "9e4ea3b2",
   "metadata": {},
   "outputs": [],
   "source": [
    "def findErrorNums(nums):\n",
    "\n",
    "    nums.sort()\n",
    "    rep_miss = [] \n",
    "    for i  in range(len(nums)) :\n",
    "        for j in range(i+1, len(nums)) :\n",
    "            if   nums[i] == nums[j] :\n",
    "                rep_miss.append(nums[i])\n",
    "                #return rep_miss\n",
    "    for i  in range(1, len(nums)+1) :\n",
    "        if i not in nums : \n",
    "            rep_miss.append(i)\n",
    "\n",
    "    return rep_miss"
   ]
  },
  {
   "cell_type": "code",
   "execution_count": 16,
   "id": "b8e8ca10",
   "metadata": {},
   "outputs": [
    {
     "data": {
      "text/plain": [
       "[1, 2]"
      ]
     },
     "execution_count": 16,
     "metadata": {},
     "output_type": "execute_result"
    }
   ],
   "source": [
    "findErrorNums([1,1])"
   ]
  },
  {
   "cell_type": "markdown",
   "id": "be53c421",
   "metadata": {},
   "source": [
    "### Time Complexity : O(n)\n",
    "### Space Complexity : O(n)"
   ]
  },
  {
   "cell_type": "markdown",
   "id": "5ce67ae7",
   "metadata": {},
   "source": [
    "## ========================================================================"
   ]
  },
  {
   "cell_type": "code",
   "execution_count": null,
   "id": "39125a6f",
   "metadata": {},
   "outputs": [],
   "source": []
  }
 ],
 "metadata": {
  "kernelspec": {
   "display_name": "Python 3 (ipykernel)",
   "language": "python",
   "name": "python3"
  },
  "language_info": {
   "codemirror_mode": {
    "name": "ipython",
    "version": 3
   },
   "file_extension": ".py",
   "mimetype": "text/x-python",
   "name": "python",
   "nbconvert_exporter": "python",
   "pygments_lexer": "ipython3",
   "version": "3.9.12"
  }
 },
 "nbformat": 4,
 "nbformat_minor": 5
}
