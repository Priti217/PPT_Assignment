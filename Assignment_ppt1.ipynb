{
 "cells": [
  {
   "cell_type": "markdown",
   "id": "c58c576e",
   "metadata": {},
   "source": [
    "### Q.1. Write a Python program to reverse a string without using any built-in string reversal functions."
   ]
  },
  {
   "cell_type": "code",
   "execution_count": 1,
   "id": "6d16a0c7",
   "metadata": {},
   "outputs": [],
   "source": [
    "def ReverseString(my_string):\n",
    "    str=\"\"\n",
    "    for i in my_string:\n",
    "        str=i+str\n",
    "    print(\"Reversed string:\",str)"
   ]
  },
  {
   "cell_type": "code",
   "execution_count": 2,
   "id": "b64434c3",
   "metadata": {},
   "outputs": [
    {
     "name": "stdout",
     "output_type": "stream",
     "text": [
      "Reversed string: ecneics ataD\n"
     ]
    }
   ],
   "source": [
    "ReverseString('Data science')"
   ]
  },
  {
   "cell_type": "markdown",
   "id": "3774af35",
   "metadata": {},
   "source": [
    "### Q.2. Implement a function to check if a given string is a palindrome."
   ]
  },
  {
   "cell_type": "code",
   "execution_count": 3,
   "id": "fdce2eb2",
   "metadata": {},
   "outputs": [],
   "source": [
    "def palindrome(string):\n",
    "    if(string==string[::-1]):  \n",
    "          print(\"The letter is a palindrome\")  \n",
    "    else:  \n",
    "          print(\"The letter is not a palindrome\")  "
   ]
  },
  {
   "cell_type": "code",
   "execution_count": 4,
   "id": "0711f38d",
   "metadata": {},
   "outputs": [
    {
     "name": "stdout",
     "output_type": "stream",
     "text": [
      "The letter is a palindrome\n"
     ]
    }
   ],
   "source": [
    "palindrome('madam')"
   ]
  },
  {
   "cell_type": "markdown",
   "id": "8ed55929",
   "metadata": {},
   "source": [
    "### Q.3. Write a program to find the largest element in a given list."
   ]
  },
  {
   "cell_type": "code",
   "execution_count": 5,
   "id": "b4dc6427",
   "metadata": {},
   "outputs": [
    {
     "name": "stdout",
     "output_type": "stream",
     "text": [
      "Largest element is: 20\n"
     ]
    }
   ],
   "source": [
    "lst = [20, 10, 20, 4, 10]\n",
    "lst.sort()\n",
    "print('Largest element is:',lst[-1])"
   ]
  },
  {
   "cell_type": "markdown",
   "id": "2d7604ae",
   "metadata": {},
   "source": [
    "### Q.4. Implement a function to count the occurrence of each element in a list.\n"
   ]
  },
  {
   "cell_type": "code",
   "execution_count": 6,
   "id": "6fab5ff4",
   "metadata": {},
   "outputs": [],
   "source": [
    "def test(f1):\n",
    "    g={}\n",
    "    for i in f1:\n",
    "        if i not in g:\n",
    "            g[i]=f1.count(i)\n",
    "            print(f'{i} occurred {g[i]} times')\n",
    "        \n",
    "            "
   ]
  },
  {
   "cell_type": "code",
   "execution_count": 7,
   "id": "c31e5a63",
   "metadata": {},
   "outputs": [
    {
     "name": "stdout",
     "output_type": "stream",
     "text": [
      "1 occurred 1 times\n",
      "2 occurred 1 times\n",
      "3 occurred 2 times\n",
      "4 occurred 1 times\n"
     ]
    }
   ],
   "source": [
    "test([1,2,3,3,4])"
   ]
  },
  {
   "cell_type": "markdown",
   "id": "fc1c82b2",
   "metadata": {},
   "source": [
    "### Q.5. Write a Python program to find the second largest number in a list."
   ]
  },
  {
   "cell_type": "code",
   "execution_count": 8,
   "id": "e031950b",
   "metadata": {},
   "outputs": [],
   "source": [
    "def secondlargestnum(t1):\n",
    "    t1.sort()\n",
    "    print('second largest number :',t1[-2])"
   ]
  },
  {
   "cell_type": "code",
   "execution_count": 9,
   "id": "707d7fe2",
   "metadata": {},
   "outputs": [
    {
     "name": "stdout",
     "output_type": "stream",
     "text": [
      "second largest number : 5\n"
     ]
    }
   ],
   "source": [
    "secondlargestnum([5,4,3,6,2])"
   ]
  },
  {
   "cell_type": "markdown",
   "id": "b05f2b08",
   "metadata": {},
   "source": [
    "### Q.6. Implement a function to remove duplicate elements from a list."
   ]
  },
  {
   "cell_type": "code",
   "execution_count": 10,
   "id": "a1c255c5",
   "metadata": {},
   "outputs": [],
   "source": [
    "def duplicate(t2):\n",
    "    h=[]\n",
    "    for i in t2:\n",
    "        if i not in h:\n",
    "            h.append(i)\n",
    "    print(h)\n",
    "                \n",
    "    "
   ]
  },
  {
   "cell_type": "code",
   "execution_count": 11,
   "id": "8aa7fdcd",
   "metadata": {},
   "outputs": [
    {
     "name": "stdout",
     "output_type": "stream",
     "text": [
      "[1, 2, 3, 4, 5]\n"
     ]
    }
   ],
   "source": [
    "duplicate([1,2,3,4,3,3,5,2,1])"
   ]
  },
  {
   "cell_type": "markdown",
   "id": "bb75b45e",
   "metadata": {},
   "source": [
    "### Q.7. Write a program to calculate the factorial of a given number"
   ]
  },
  {
   "cell_type": "code",
   "execution_count": 12,
   "id": "e8992ca2",
   "metadata": {},
   "outputs": [],
   "source": [
    "def factorial(n1):\n",
    "    for j in range(1,n1+1):\n",
    "        for i in range(1,n1+1):\n",
    "            j=i*j\n",
    "        break\n",
    "    print(j)\n",
    "    "
   ]
  },
  {
   "cell_type": "code",
   "execution_count": 13,
   "id": "037357ff",
   "metadata": {},
   "outputs": [
    {
     "name": "stdout",
     "output_type": "stream",
     "text": [
      "24\n"
     ]
    }
   ],
   "source": [
    "factorial(4)"
   ]
  },
  {
   "cell_type": "markdown",
   "id": "60393c8f",
   "metadata": {},
   "source": [
    "### Q.8. Implement a function to check if a given number is prime"
   ]
  },
  {
   "cell_type": "code",
   "execution_count": 14,
   "id": "b9d92798",
   "metadata": {},
   "outputs": [],
   "source": [
    "def is_prime(n):\n",
    "    if n < 2:\n",
    "        return False\n",
    "    i = 2\n",
    "    while i*i <= n:\n",
    "        if n % i == 0:\n",
    "            return False\n",
    "        i += 1\n",
    "    return True\n",
    "     "
   ]
  },
  {
   "cell_type": "code",
   "execution_count": 15,
   "id": "d38e4eb2",
   "metadata": {},
   "outputs": [
    {
     "data": {
      "text/plain": [
       "True"
      ]
     },
     "execution_count": 15,
     "metadata": {},
     "output_type": "execute_result"
    }
   ],
   "source": [
    "is_prime(11)"
   ]
  },
  {
   "cell_type": "markdown",
   "id": "ab78b8b0",
   "metadata": {},
   "source": [
    "### Q.9. Write a Python program to sort a list of integers in ascending order"
   ]
  },
  {
   "cell_type": "code",
   "execution_count": 16,
   "id": "3ec8dc14",
   "metadata": {},
   "outputs": [],
   "source": [
    "def ascending(arr):\n",
    "    for i in range(len(arr)):\n",
    "        for j in range(i + 1, len(arr)):\n",
    "            if arr[i] > arr[j]:\n",
    "                temp = arr[i]\n",
    "                arr[i] = arr[j]\n",
    "                arr[j] = temp\n",
    "    return arr \n"
   ]
  },
  {
   "cell_type": "code",
   "execution_count": 17,
   "id": "39f98067",
   "metadata": {},
   "outputs": [
    {
     "data": {
      "text/plain": [
       "[1, 4, 6]"
      ]
     },
     "execution_count": 17,
     "metadata": {},
     "output_type": "execute_result"
    }
   ],
   "source": [
    "ascending([1,6,4])"
   ]
  },
  {
   "cell_type": "markdown",
   "id": "bbf2279a",
   "metadata": {},
   "source": [
    "### Q.10. Implement a function to find the sum of all numbers in a list"
   ]
  },
  {
   "cell_type": "code",
   "execution_count": 18,
   "id": "5fff51e6",
   "metadata": {},
   "outputs": [],
   "source": [
    "def sum(l1):\n",
    "    sum=0\n",
    "    for i in range(len(l1)):\n",
    "        sum=sum+l1[i]\n",
    "    print(sum)\n",
    "        "
   ]
  },
  {
   "cell_type": "code",
   "execution_count": 19,
   "id": "5541ef08",
   "metadata": {},
   "outputs": [
    {
     "name": "stdout",
     "output_type": "stream",
     "text": [
      "19\n"
     ]
    }
   ],
   "source": [
    "sum([1,2,3,8,5])"
   ]
  },
  {
   "cell_type": "markdown",
   "id": "9b59c26c",
   "metadata": {},
   "source": [
    "### Q.11. Write a program to find the common elements between two lists.\n"
   ]
  },
  {
   "cell_type": "code",
   "execution_count": 20,
   "id": "f896ed4b",
   "metadata": {},
   "outputs": [],
   "source": [
    "def common(l1,l2):\n",
    "    l1_set=set(l1)\n",
    "    l2_set=set(l2)\n",
    "    if(l1_set & l2_set):\n",
    "        print(l1_set & l2_set)\n",
    "    else:\n",
    "        print('No common element')\n"
   ]
  },
  {
   "cell_type": "code",
   "execution_count": 21,
   "id": "ef2487c3",
   "metadata": {},
   "outputs": [
    {
     "name": "stdout",
     "output_type": "stream",
     "text": [
      "{5}\n"
     ]
    }
   ],
   "source": [
    "common([1,2,3,4,5,5],[5,6,7,8,9])"
   ]
  },
  {
   "cell_type": "markdown",
   "id": "460b6ec4",
   "metadata": {},
   "source": [
    "### Q.12. Implement a function to check if a given string is an anagram of another string."
   ]
  },
  {
   "cell_type": "code",
   "execution_count": 22,
   "id": "aef2d5a0",
   "metadata": {},
   "outputs": [],
   "source": [
    "def isanagram(s1,s2):\n",
    "    if(sorted(s1)== sorted(s2)):\n",
    "        print(\"The strings are anagrams.\")\n",
    "    else:\n",
    "        print(\"The strings aren't anagrams.\")   \n",
    "    "
   ]
  },
  {
   "cell_type": "code",
   "execution_count": 23,
   "id": "9797384e",
   "metadata": {},
   "outputs": [
    {
     "name": "stdout",
     "output_type": "stream",
     "text": [
      "The strings are anagrams.\n"
     ]
    }
   ],
   "source": [
    "isanagram('cat','act')"
   ]
  },
  {
   "cell_type": "markdown",
   "id": "f36b5bb6",
   "metadata": {},
   "source": [
    "### Q.13. Write a Python program to generate all permutations of a given string."
   ]
  },
  {
   "cell_type": "code",
   "execution_count": 24,
   "id": "3cb49899",
   "metadata": {},
   "outputs": [],
   "source": [
    "def permute(s, answer):\n",
    "    if (len(s) == 0):\n",
    "        print(answer, end = \"  \")\n",
    "        return\n",
    "     \n",
    "    for i in range(len(s)):\n",
    "        ch = s[i]\n",
    "        left_substr = s[0:i]\n",
    "        right_substr = s[i + 1:]\n",
    "        rest = left_substr + right_substr\n",
    "        permute(rest, answer + ch)"
   ]
  },
  {
   "cell_type": "code",
   "execution_count": 25,
   "id": "e2f41e3c",
   "metadata": {},
   "outputs": [
    {
     "name": "stdout",
     "output_type": "stream",
     "text": [
      "abc  acb  bac  bca  cab  cba  "
     ]
    }
   ],
   "source": [
    "permute('abc','')"
   ]
  },
  {
   "cell_type": "markdown",
   "id": "b95d9453",
   "metadata": {},
   "source": [
    "### Q.14. Implement a function to calculate the Fibonacci sequence up to a given number of terms"
   ]
  },
  {
   "cell_type": "code",
   "execution_count": 26,
   "id": "37f73d52",
   "metadata": {},
   "outputs": [],
   "source": [
    "def fibonacci(n):\n",
    " \n",
    "    # Taking 1st two fibonacci numbers as 0 and 1\n",
    "    f = [0, 1]\n",
    " \n",
    "    for i in range(2, n+1):\n",
    "        f.append(f[i-1] + f[i-2])\n",
    "    return f[n]\n",
    " "
   ]
  },
  {
   "cell_type": "code",
   "execution_count": 27,
   "id": "667b0e0b",
   "metadata": {},
   "outputs": [
    {
     "data": {
      "text/plain": [
       "34"
      ]
     },
     "execution_count": 27,
     "metadata": {},
     "output_type": "execute_result"
    }
   ],
   "source": [
    "fibonacci(9)"
   ]
  },
  {
   "cell_type": "markdown",
   "id": "6c8476de",
   "metadata": {},
   "source": [
    "### Q.15. Write a program to find the median of a list of numbers"
   ]
  },
  {
   "cell_type": "code",
   "execution_count": 28,
   "id": "42452ba1",
   "metadata": {},
   "outputs": [],
   "source": [
    "def median(l1):\n",
    "    l1.sort()\n",
    "    n = len(l1)\n",
    "    if n % 2 == 0:\n",
    "        median = (l1[n//2 - 1] + l1[n//2]) / 2\n",
    "    else:\n",
    "        median = l1[n//2]\n",
    "    print(\"Median of list is : \" + str(median))\n",
    "        "
   ]
  },
  {
   "cell_type": "code",
   "execution_count": 29,
   "id": "1b3437cd",
   "metadata": {},
   "outputs": [
    {
     "name": "stdout",
     "output_type": "stream",
     "text": [
      "Median of list is : 6\n"
     ]
    }
   ],
   "source": [
    "median([4,6,7,8,5])  "
   ]
  },
  {
   "cell_type": "markdown",
   "id": "6254ac5b",
   "metadata": {},
   "source": [
    "### Q.16. Implement a function to check if a given list is sorted in non-decreasing order"
   ]
  },
  {
   "cell_type": "code",
   "execution_count": 30,
   "id": "380f9490",
   "metadata": {},
   "outputs": [],
   "source": [
    "def issorted(l1):\n",
    "    is_sorted = all(a <= b for a, b in zip(l1,l1[1:]))\n",
    "    if is_sorted:\n",
    "        print(\"Yes, the list is sorted.\")\n",
    "    else:\n",
    "        print(\"No, the list is not sorted.\")"
   ]
  },
  {
   "cell_type": "code",
   "execution_count": 31,
   "id": "e2de1190",
   "metadata": {},
   "outputs": [
    {
     "name": "stdout",
     "output_type": "stream",
     "text": [
      "No, the list is not sorted.\n"
     ]
    }
   ],
   "source": [
    "issorted([1,4,8,5,8,10])"
   ]
  },
  {
   "cell_type": "markdown",
   "id": "85794b78",
   "metadata": {},
   "source": [
    "### Q,17. Write a Python program to find the intersection of two lists."
   ]
  },
  {
   "cell_type": "code",
   "execution_count": 32,
   "id": "e2c3df97",
   "metadata": {},
   "outputs": [],
   "source": [
    "def intersection(l1,l2):\n",
    "    l1_set=set(l1)\n",
    "    l2_set=set(l2)\n",
    "    if(l1_set & l2_set):\n",
    "        print(l1_set & l2_set)"
   ]
  },
  {
   "cell_type": "code",
   "execution_count": 33,
   "id": "9a26868d",
   "metadata": {},
   "outputs": [
    {
     "name": "stdout",
     "output_type": "stream",
     "text": [
      "{12}\n"
     ]
    }
   ],
   "source": [
    "intersection([6,8,10,12],[9,12,64,3])"
   ]
  },
  {
   "cell_type": "markdown",
   "id": "b8352391",
   "metadata": {},
   "source": [
    "### Q.18. Implement a function to find the maximum subarray sum in a given list."
   ]
  },
  {
   "cell_type": "code",
   "execution_count": 34,
   "id": "7684b4c1",
   "metadata": {},
   "outputs": [],
   "source": [
    "def findmaxsub(arr):\n",
    "    maxsubarrysum = - len(arr)\n",
    "    for i in range(len(arr)):\n",
    "        for j in range(i,len(arr)):\n",
    "            subarrysum=0\n",
    "            for k in range(i,j+1):\n",
    "                subarrysum=subarrysum + arr[k]\n",
    "            if subarrysum>maxsubarrysum:\n",
    "                maxsubarrysum=subarrysum\n",
    "    return maxsubarrysum"
   ]
  },
  {
   "cell_type": "code",
   "execution_count": 35,
   "id": "b3e4beff",
   "metadata": {},
   "outputs": [
    {
     "data": {
      "text/plain": [
       "5"
      ]
     },
     "execution_count": 35,
     "metadata": {},
     "output_type": "execute_result"
    }
   ],
   "source": [
    "findmaxsub([-3,2,-1,4,-2])"
   ]
  },
  {
   "cell_type": "markdown",
   "id": "f1d1f303",
   "metadata": {},
   "source": [
    "### Q.19. Write a program to remove all vowels from a given string."
   ]
  },
  {
   "cell_type": "code",
   "execution_count": 36,
   "id": "d45a03f7",
   "metadata": {},
   "outputs": [],
   "source": [
    "def rem_vowel(string):\n",
    "    vowels = ['a','e','i','o','u']\n",
    "    result = [letter for letter in string if letter.lower() not in vowels]\n",
    "    result = ''.join(result)\n",
    "    print(result)"
   ]
  },
  {
   "cell_type": "code",
   "execution_count": 37,
   "id": "c41f4a3a",
   "metadata": {},
   "outputs": [
    {
     "name": "stdout",
     "output_type": "stream",
     "text": [
      "Dt scnc\n"
     ]
    }
   ],
   "source": [
    "rem_vowel('Data science')"
   ]
  },
  {
   "cell_type": "markdown",
   "id": "8fef1295",
   "metadata": {},
   "source": [
    "### Q.20. Implement a function to reverse the order of words in a given sentence."
   ]
  },
  {
   "cell_type": "code",
   "execution_count": 38,
   "id": "27474c1b",
   "metadata": {},
   "outputs": [],
   "source": [
    "def reverse_order(sent):\n",
    "    s1=sent.split()\n",
    "    print(' '.join(s1[::-1]))\n"
   ]
  },
  {
   "cell_type": "code",
   "execution_count": 39,
   "id": "28253bf7",
   "metadata": {},
   "outputs": [
    {
     "name": "stdout",
     "output_type": "stream",
     "text": [
      "code this like I\n"
     ]
    }
   ],
   "source": [
    "reverse_order(\"I like this code\")"
   ]
  },
  {
   "cell_type": "markdown",
   "id": "36b52858",
   "metadata": {},
   "source": [
    "### Q.21. Write a Python program to check if two strings are anagrams of each other"
   ]
  },
  {
   "cell_type": "code",
   "execution_count": 40,
   "id": "88897e22",
   "metadata": {},
   "outputs": [],
   "source": [
    "def isanagram(s1,s2):\n",
    "    if(sorted(s1)== sorted(s2)):\n",
    "        print(\"The strings are anagrams.\")\n",
    "    else:\n",
    "        print(\"The strings aren't anagrams.\")   "
   ]
  },
  {
   "cell_type": "code",
   "execution_count": 41,
   "id": "6696b9b3",
   "metadata": {},
   "outputs": [
    {
     "name": "stdout",
     "output_type": "stream",
     "text": [
      "The strings aren't anagrams.\n"
     ]
    }
   ],
   "source": [
    "isanagram('bad','dad')"
   ]
  },
  {
   "cell_type": "markdown",
   "id": "a23a3d59",
   "metadata": {},
   "source": [
    "### Q.22. Implement a function to find the first non-repeating character in a string"
   ]
  },
  {
   "cell_type": "code",
   "execution_count": 42,
   "id": "449384d2",
   "metadata": {},
   "outputs": [],
   "source": [
    "def repeatingchar(s):\n",
    "    for i in s:\n",
    "        if (s.find(i, (s.find(i)+1))) == -1:\n",
    " \n",
    "            print(\"First non-repeating character is\", i)\n",
    " \n",
    "            break\n",
    " \n",
    "    return\n",
    "        \n",
    "        "
   ]
  },
  {
   "cell_type": "code",
   "execution_count": 43,
   "id": "77a43ac3",
   "metadata": {},
   "outputs": [
    {
     "name": "stdout",
     "output_type": "stream",
     "text": [
      "First non-repeating character is h\n"
     ]
    }
   ],
   "source": [
    "repeatingchar('character')"
   ]
  },
  {
   "cell_type": "markdown",
   "id": "75fe5cb2",
   "metadata": {},
   "source": [
    "### Q.23. Write a program to find the prime factors of a given number"
   ]
  },
  {
   "cell_type": "code",
   "execution_count": 44,
   "id": "2273b193",
   "metadata": {},
   "outputs": [],
   "source": [
    "import math\n",
    "def primeFactors(n):\n",
    "    while n % 2 == 0:\n",
    "        print (2)\n",
    "        n = n / 2\n",
    "    for i in range(3,int(math.sqrt(n))+1,2):\n",
    "        while n % i== 0:\n",
    "            print (i)\n",
    "            n = n / i\n",
    "    if n > 2:\n",
    "        print(n)"
   ]
  },
  {
   "cell_type": "code",
   "execution_count": 45,
   "id": "12bc30c9",
   "metadata": {},
   "outputs": [
    {
     "name": "stdout",
     "output_type": "stream",
     "text": [
      "2\n",
      "3\n",
      "5\n",
      "11\n"
     ]
    }
   ],
   "source": [
    "primeFactors(330)"
   ]
  },
  {
   "cell_type": "markdown",
   "id": "9bee8962",
   "metadata": {},
   "source": [
    "### Q.24. Implement a function to check if a given number is a power of two"
   ]
  },
  {
   "cell_type": "code",
   "execution_count": 46,
   "id": "0d48590f",
   "metadata": {},
   "outputs": [],
   "source": [
    "def powerOftwo(n):\n",
    "    if n==1:\n",
    "        print(f'{n} is powar of two')\n",
    "    elif(n%2!=0) or (n==0):\n",
    "        print(f'{n} is not powar of two')\n",
    "    else:\n",
    "        print(f\"{n} is powar of two\")"
   ]
  },
  {
   "cell_type": "code",
   "execution_count": 47,
   "id": "dbe52cc8",
   "metadata": {},
   "outputs": [
    {
     "name": "stdout",
     "output_type": "stream",
     "text": [
      "64 is powar of two\n"
     ]
    }
   ],
   "source": [
    "powerOftwo(64)"
   ]
  },
  {
   "cell_type": "markdown",
   "id": "dd7dc801",
   "metadata": {},
   "source": [
    "### Q.25. Write a Python program to merge two sorted lists into a single sorted list."
   ]
  },
  {
   "cell_type": "code",
   "execution_count": 48,
   "id": "cce4ad93",
   "metadata": {},
   "outputs": [],
   "source": [
    "def sortedlist(test_list1,test_list2):\n",
    " \n",
    "    print (\"The original list 1 is : \" + str(test_list1))\n",
    "    print (\"The original list 2 is : \" + str(test_list2))\n",
    " \n",
    "\n",
    "    res = sorted(test_list1 + test_list2)\n",
    " \n",
    "    print (\"The combined sorted list is : \" + str(res))"
   ]
  },
  {
   "cell_type": "code",
   "execution_count": 49,
   "id": "f9133238",
   "metadata": {},
   "outputs": [
    {
     "name": "stdout",
     "output_type": "stream",
     "text": [
      "The original list 1 is : [1, 7, 4, 2]\n",
      "The original list 2 is : [3, 5, 9, 6]\n",
      "The combined sorted list is : [1, 2, 3, 4, 5, 6, 7, 9]\n"
     ]
    }
   ],
   "source": [
    "sortedlist([1,7,4,2],[3,5,9,6])"
   ]
  },
  {
   "cell_type": "markdown",
   "id": "bfe33f77",
   "metadata": {},
   "source": [
    "### Q.26. Implement a function to find the mode of a list of numbers"
   ]
  },
  {
   "cell_type": "code",
   "execution_count": 50,
   "id": "70f1f97f",
   "metadata": {},
   "outputs": [],
   "source": [
    "def mode(num):\n",
    "    uniq_values = []\n",
    "    mode_values = []\n",
    "    for i in num:\n",
    "        if i not in uniq_values:\n",
    "            uniq_values.append(i)\n",
    "        else:\n",
    "            mode_values.append(i)\n",
    "    print(set(mode_values))"
   ]
  },
  {
   "cell_type": "code",
   "execution_count": 51,
   "id": "73c2bed8",
   "metadata": {},
   "outputs": [
    {
     "name": "stdout",
     "output_type": "stream",
     "text": [
      "{8, 4}\n"
     ]
    }
   ],
   "source": [
    "mode([1,2,3,4,8,4,5,8])"
   ]
  },
  {
   "cell_type": "markdown",
   "id": "12a550ef",
   "metadata": {},
   "source": [
    "### Q.27. Write a program to find the greatest common divisor (GCD) of two numbers.\n"
   ]
  },
  {
   "cell_type": "code",
   "execution_count": 52,
   "id": "6b5729ec",
   "metadata": {},
   "outputs": [],
   "source": [
    "def gcd(a, b):\n",
    "    result = min(a, b)\n",
    "    while result:\n",
    "        if a % result == 0 and b % result == 0:\n",
    "            break\n",
    "        result -= 1\n",
    "    return result"
   ]
  },
  {
   "cell_type": "code",
   "execution_count": 53,
   "id": "d570e134",
   "metadata": {},
   "outputs": [
    {
     "data": {
      "text/plain": [
       "12"
      ]
     },
     "execution_count": 53,
     "metadata": {},
     "output_type": "execute_result"
    }
   ],
   "source": [
    "gcd(36,60)"
   ]
  },
  {
   "cell_type": "markdown",
   "id": "b3b9d3f7",
   "metadata": {},
   "source": [
    "### Q.28. Implement a function to calculate the square root of a given number.\n"
   ]
  },
  {
   "cell_type": "code",
   "execution_count": 54,
   "id": "0413b747",
   "metadata": {},
   "outputs": [],
   "source": [
    "import math\n",
    "def squareroot(num):\n",
    "    sqRoot = math.pow(num, 0.5)\n",
    "    print(\"The square root of a given number {0} = {1}\".format(num, int(sqRoot))) "
   ]
  },
  {
   "cell_type": "code",
   "execution_count": 55,
   "id": "d677e810",
   "metadata": {},
   "outputs": [
    {
     "name": "stdout",
     "output_type": "stream",
     "text": [
      "The square root of a given number 144 = 12\n"
     ]
    }
   ],
   "source": [
    "squareroot(144)"
   ]
  },
  {
   "cell_type": "markdown",
   "id": "67185a02",
   "metadata": {},
   "source": [
    "### Q.29. Write a Python program to check if a given string is a valid palindrome ignoringnon-alphanumeric characters."
   ]
  },
  {
   "cell_type": "code",
   "execution_count": 56,
   "id": "19b9066b",
   "metadata": {},
   "outputs": [],
   "source": [
    "def palindrome(string):\n",
    "    if(string==string[::-1]):  \n",
    "          print(\"The letter is a palindrome\")  \n",
    "    else:  \n",
    "          print(\"The letter is not a palindrome\") "
   ]
  },
  {
   "cell_type": "code",
   "execution_count": 57,
   "id": "d8d92629",
   "metadata": {},
   "outputs": [
    {
     "name": "stdout",
     "output_type": "stream",
     "text": [
      "The letter is a palindrome\n"
     ]
    }
   ],
   "source": [
    "palindrome('malayalam')"
   ]
  },
  {
   "cell_type": "markdown",
   "id": "a63e31cb",
   "metadata": {},
   "source": [
    "### Q.30. Implement a function to find the minimum element in a rotated sorted list."
   ]
  },
  {
   "cell_type": "code",
   "execution_count": 58,
   "id": "a209ddd6",
   "metadata": {},
   "outputs": [],
   "source": [
    "def findMin(arr):\n",
    "    N=len(arr)\n",
    "    min_ele = arr[0];\n",
    "    for i in range(N) :\n",
    "        if arr[i] < min_ele :\n",
    "            min_ele = arr[i]\n",
    " \n",
    "    return min_ele;"
   ]
  },
  {
   "cell_type": "code",
   "execution_count": 59,
   "id": "ef5ef539",
   "metadata": {},
   "outputs": [
    {
     "data": {
      "text/plain": [
       "1"
      ]
     },
     "execution_count": 59,
     "metadata": {},
     "output_type": "execute_result"
    }
   ],
   "source": [
    "findMin([5,6,1,2,3,4])"
   ]
  },
  {
   "cell_type": "markdown",
   "id": "564a0182",
   "metadata": {},
   "source": [
    "### Q.31. Write a program to find the sum of all even numbers in a list.\n"
   ]
  },
  {
   "cell_type": "code",
   "execution_count": 60,
   "id": "68ee269d",
   "metadata": {},
   "outputs": [],
   "source": [
    "def evennumsum(s1):\n",
    "    sum=0\n",
    "    for i in s1:\n",
    "        if i%2==0:\n",
    "            sum=sum+i\n",
    "    print(sum)"
   ]
  },
  {
   "cell_type": "code",
   "execution_count": 61,
   "id": "a3f89f1a",
   "metadata": {},
   "outputs": [
    {
     "name": "stdout",
     "output_type": "stream",
     "text": [
      "12\n"
     ]
    }
   ],
   "source": [
    "evennumsum([5, 6, 1, 2, 3, 4])"
   ]
  },
  {
   "cell_type": "markdown",
   "id": "88017b79",
   "metadata": {},
   "source": [
    "### Q.32. Implement a function to calculate the power of a number using recursion."
   ]
  },
  {
   "cell_type": "code",
   "execution_count": 62,
   "id": "3762690a",
   "metadata": {},
   "outputs": [],
   "source": [
    "def power(N, P):\n",
    "    if P == 0:\n",
    "        return 1\n",
    "    return (N*power(N, P-1))"
   ]
  },
  {
   "cell_type": "code",
   "execution_count": 63,
   "id": "3b05ee8d",
   "metadata": {},
   "outputs": [
    {
     "data": {
      "text/plain": [
       "8"
      ]
     },
     "execution_count": 63,
     "metadata": {},
     "output_type": "execute_result"
    }
   ],
   "source": [
    "power(2,3)"
   ]
  },
  {
   "cell_type": "markdown",
   "id": "4615a4cc",
   "metadata": {},
   "source": [
    "### Q.33. Write a Python program to remove duplicates from a list while preserving the order.\n",
    "\n"
   ]
  },
  {
   "cell_type": "code",
   "execution_count": 64,
   "id": "6b333e52",
   "metadata": {},
   "outputs": [],
   "source": [
    "def remove(l):\n",
    "    l1=[]\n",
    "    for i in l:\n",
    "        if i not in l1:\n",
    "            l1.append(i)\n",
    "    print(l1)\n",
    "        "
   ]
  },
  {
   "cell_type": "code",
   "execution_count": 65,
   "id": "26194a97",
   "metadata": {},
   "outputs": [
    {
     "name": "stdout",
     "output_type": "stream",
     "text": [
      "[1, 3, 4, 10, 43]\n"
     ]
    }
   ],
   "source": [
    "remove([1, 3, 4, 10, 4, 1, 43])"
   ]
  },
  {
   "cell_type": "markdown",
   "id": "83ba3559",
   "metadata": {},
   "source": [
    "### Q.34. Implement a function to find the longest common prefix among a list of strings"
   ]
  },
  {
   "cell_type": "code",
   "execution_count": 66,
   "id": "f79fe28e",
   "metadata": {},
   "outputs": [],
   "source": [
    "def longestcommon(arr):\n",
    "    if not arr:\n",
    "        return \"\"\n",
    "    arr.sort()\n",
    "    prefix = \"\"\n",
    "    for i in range(len(arr[0])):\n",
    "            if all(x[i] == arr[0][i] for x in arr):\n",
    "                prefix += arr[0][i]\n",
    "            else:\n",
    "                break\n",
    "        \n",
    "    return prefix\n",
    " "
   ]
  },
  {
   "cell_type": "code",
   "execution_count": 67,
   "id": "acca1309",
   "metadata": {},
   "outputs": [
    {
     "data": {
      "text/plain": [
       "'act'"
      ]
     },
     "execution_count": 67,
     "metadata": {},
     "output_type": "execute_result"
    }
   ],
   "source": [
    "longestcommon(['act','acting','actor'])"
   ]
  },
  {
   "cell_type": "markdown",
   "id": "e5689521",
   "metadata": {},
   "source": [
    "### Q.35. Write a program to check if a given number is a perfect square."
   ]
  },
  {
   "cell_type": "code",
   "execution_count": 68,
   "id": "893d4dd3",
   "metadata": {},
   "outputs": [],
   "source": [
    "def isPerfectSquare(n):\n",
    "    for i in range(n+1):\n",
    "        if i**2 == n:\n",
    "            print(\"Yes\")\n",
    "            break\n",
    "    else:\n",
    "        print(\"No\")\n",
    "    "
   ]
  },
  {
   "cell_type": "code",
   "execution_count": 69,
   "id": "7a7c2967",
   "metadata": {},
   "outputs": [
    {
     "name": "stdout",
     "output_type": "stream",
     "text": [
      "No\n"
     ]
    }
   ],
   "source": [
    "isPerfectSquare(257)"
   ]
  },
  {
   "cell_type": "markdown",
   "id": "b640b14f",
   "metadata": {},
   "source": [
    "### Q.36. Implement a function to calculate the product of all elements in a list.\n"
   ]
  },
  {
   "cell_type": "code",
   "execution_count": 70,
   "id": "078e3b2f",
   "metadata": {},
   "outputs": [],
   "source": [
    "def mul(l1):\n",
    "    mul=1\n",
    "    for i in range(len(l1)):\n",
    "        mul=mul*l1[i]\n",
    "    print(mul)"
   ]
  },
  {
   "cell_type": "code",
   "execution_count": 71,
   "id": "497152a6",
   "metadata": {},
   "outputs": [
    {
     "name": "stdout",
     "output_type": "stream",
     "text": [
      "6\n"
     ]
    }
   ],
   "source": [
    "mul([1,2,3])"
   ]
  },
  {
   "cell_type": "markdown",
   "id": "8b58adb1",
   "metadata": {},
   "source": [
    "### Q.37. Write a Python program to reverse the order of words in a sentence while preserving theword order.\n"
   ]
  },
  {
   "cell_type": "code",
   "execution_count": 72,
   "id": "342c893b",
   "metadata": {},
   "outputs": [],
   "source": [
    "def reverse_order(sent):\n",
    "    s1=sent.split()\n",
    "    g1=' '.join(s1[::-1])\n",
    "    str=\"\"\n",
    "    for i in g1:\n",
    "        str=i+str\n",
    "    print(\"Reversed string:\",str)"
   ]
  },
  {
   "cell_type": "code",
   "execution_count": 73,
   "id": "af1c06a9",
   "metadata": {},
   "outputs": [
    {
     "name": "stdout",
     "output_type": "stream",
     "text": [
      "Reversed string: i ekil gnidoc\n"
     ]
    }
   ],
   "source": [
    "reverse_order('i like coding')"
   ]
  },
  {
   "cell_type": "markdown",
   "id": "85de2843",
   "metadata": {},
   "source": [
    "### Q.38. Implement a function to find the missing number in a given list of consecutive numbers.\n"
   ]
  },
  {
   "cell_type": "code",
   "execution_count": 74,
   "id": "321ff2e4",
   "metadata": {},
   "outputs": [],
   "source": [
    "def findmissing(l):\n",
    "    n=len(l)\n",
    "    a=l[0]\n",
    "    l1=[]\n",
    "    for i in range(a,n+1):\n",
    "        l1.append(i)\n",
    "    for j in l:\n",
    "        if i!=j:\n",
    "            pass\n",
    "    print(i)\n",
    "        "
   ]
  },
  {
   "cell_type": "code",
   "execution_count": 75,
   "id": "ba7c3063",
   "metadata": {},
   "outputs": [
    {
     "name": "stdout",
     "output_type": "stream",
     "text": [
      "8\n"
     ]
    }
   ],
   "source": [
    "findmissing([1, 2, 3, 4, 5, 6, 7, 9])"
   ]
  },
  {
   "cell_type": "markdown",
   "id": "1370bbcc",
   "metadata": {},
   "source": [
    "### Q.39. Write a program to find the sum of digits of a given number"
   ]
  },
  {
   "cell_type": "code",
   "execution_count": 76,
   "id": "238d088d",
   "metadata": {},
   "outputs": [],
   "source": [
    "def getSum(n):\n",
    "    sum = 0\n",
    "    while (n != 0):\n",
    "        sum = sum + int(n % 10)\n",
    "        n = int(n/10)\n",
    " \n",
    "    return sum"
   ]
  },
  {
   "cell_type": "code",
   "execution_count": 77,
   "id": "faef00b9",
   "metadata": {},
   "outputs": [
    {
     "data": {
      "text/plain": [
       "21"
      ]
     },
     "execution_count": 77,
     "metadata": {},
     "output_type": "execute_result"
    }
   ],
   "source": [
    "getSum(687)"
   ]
  },
  {
   "cell_type": "markdown",
   "id": "4b921235",
   "metadata": {},
   "source": [
    "### Q.40. Implement a function to check if a given string is a valid palindrome considering case sensitivity "
   ]
  },
  {
   "cell_type": "code",
   "execution_count": 78,
   "id": "3a71c833",
   "metadata": {},
   "outputs": [],
   "source": [
    "def ispalindrom(string):\n",
    "    flag=True\n",
    "    string = string.lower()\n",
    "    for i in range(0, len(string)//2):  \n",
    "        if(string[i] != string[len(string)-i-1]):  \n",
    "            flag = False;  \n",
    "            break;  \n",
    "   \n",
    "    if(flag):  \n",
    "        print(\"Given string is palindrome\");  \n",
    "    else:  \n",
    "        print(\"Given string is not a palindrome\");"
   ]
  },
  {
   "cell_type": "code",
   "execution_count": 79,
   "id": "4152cdda",
   "metadata": {},
   "outputs": [
    {
     "name": "stdout",
     "output_type": "stream",
     "text": [
      "Given string is palindrome\n"
     ]
    }
   ],
   "source": [
    "ispalindrom('Madam')"
   ]
  },
  {
   "cell_type": "markdown",
   "id": "7f68937e",
   "metadata": {},
   "source": [
    "### Q.41. Write a Python program to find the smallest missing positive integer in a list"
   ]
  },
  {
   "cell_type": "code",
   "execution_count": 80,
   "id": "6745ceec",
   "metadata": {},
   "outputs": [],
   "source": [
    "def solution(A): \n",
    " \n",
    "    m = max(A) \n",
    "    if m < 1:\n",
    "        return 1\n",
    "    if len(A) == 1:\n",
    "        return 2 if A[0] == 1 else 1\n",
    "    l = [0] * m\n",
    "    for i in range(len(A)):\n",
    "        if A[i] > 0:\n",
    "            if l[A[i] - 1] != 1:\n",
    "                l[A[i] - 1] = 1\n",
    "    for i in range(len(l)):\n",
    "        if l[i] == 0:\n",
    "            return i + 1\n",
    "    return i + 2\n",
    " "
   ]
  },
  {
   "cell_type": "code",
   "execution_count": 81,
   "id": "5a25a721",
   "metadata": {},
   "outputs": [
    {
     "data": {
      "text/plain": [
       "4"
      ]
     },
     "execution_count": 81,
     "metadata": {},
     "output_type": "execute_result"
    }
   ],
   "source": [
    "solution([2, 3, -7, 6, 8, 1, -10, 15])"
   ]
  },
  {
   "cell_type": "markdown",
   "id": "2876b632",
   "metadata": {},
   "source": [
    "### Q.42. Implement a function to find the longest palindrome substring in a given string"
   ]
  },
  {
   "cell_type": "code",
   "execution_count": 82,
   "id": "593e4fbe",
   "metadata": {},
   "outputs": [],
   "source": [
    "def longestPalindrome1(s):\n",
    "        def check(i, j):\n",
    "            left = i\n",
    "            right = j - 1\n",
    "            \n",
    "            while left < right:\n",
    "                if s[left] != s[right]:\n",
    "                    return False\n",
    "                \n",
    "                left += 1\n",
    "                right -= 1\n",
    "            \n",
    "            return True\n",
    "        \n",
    "        for length in range(len(s), 0, -1):\n",
    "            for start in range(len(s) - length + 1):\n",
    "                if check(start, start + length):\n",
    "                    return s[start:start + length]\n",
    "\n",
    "        return \"\""
   ]
  },
  {
   "cell_type": "code",
   "execution_count": 83,
   "id": "880f9231",
   "metadata": {},
   "outputs": [
    {
     "data": {
      "text/plain": [
       "'geeksskeeg'"
      ]
     },
     "execution_count": 83,
     "metadata": {},
     "output_type": "execute_result"
    }
   ],
   "source": [
    "longestPalindrome1('forgeeksskeegfor')"
   ]
  },
  {
   "cell_type": "markdown",
   "id": "ff40be90",
   "metadata": {},
   "source": [
    "### Q.43. Write a program to find the number of occurrences of a given element in a list"
   ]
  },
  {
   "cell_type": "code",
   "execution_count": 84,
   "id": "79f495f5",
   "metadata": {},
   "outputs": [],
   "source": [
    "def occurance(f1):\n",
    "    g={}\n",
    "    for i in f1:\n",
    "        if i not in g:\n",
    "            g[i]=f1.count(i)\n",
    "            print(f'{i} occurred {g[i]} times')"
   ]
  },
  {
   "cell_type": "code",
   "execution_count": 85,
   "id": "63b350f1",
   "metadata": {},
   "outputs": [
    {
     "name": "stdout",
     "output_type": "stream",
     "text": [
      "3 occurred 1 times\n",
      "2 occurred 2 times\n",
      "5 occurred 2 times\n"
     ]
    }
   ],
   "source": [
    "occurance([3,2,5,2,5])"
   ]
  },
  {
   "cell_type": "markdown",
   "id": "57c52997",
   "metadata": {},
   "source": [
    "### Q.44. Implement a function to check if a given number is a perfect number."
   ]
  },
  {
   "cell_type": "code",
   "execution_count": 86,
   "id": "845421f3",
   "metadata": {},
   "outputs": [],
   "source": [
    "def perfectnumber(num):\n",
    "    sum = 0\n",
    "    for i in range (1,num):\n",
    "        if(num % i == 0):\n",
    "            sum = sum + i\n",
    "    if(sum == num):\n",
    "        print(f'{num} is a perfect number')\n",
    "    else:\n",
    "        print(f'{num} is not a perfect number')"
   ]
  },
  {
   "cell_type": "code",
   "execution_count": 87,
   "id": "fa3460e8",
   "metadata": {},
   "outputs": [
    {
     "name": "stdout",
     "output_type": "stream",
     "text": [
      "6 is a perfect number\n"
     ]
    }
   ],
   "source": [
    "perfectnumber(6)"
   ]
  },
  {
   "cell_type": "markdown",
   "id": "c282e3f0",
   "metadata": {},
   "source": [
    "### Q.45. Write a Python program to remove all duplicates from a string."
   ]
  },
  {
   "cell_type": "code",
   "execution_count": 88,
   "id": "1adf0569",
   "metadata": {},
   "outputs": [],
   "source": [
    "def remdupli(string):\n",
    "    k2=[]\n",
    "    for ele in string:\n",
    "        if ele not in k2:\n",
    "            k2.append(ele)\n",
    "    for i in range(0,len(k2)):\n",
    "        print(k2[i],end=\"\")"
   ]
  },
  {
   "cell_type": "code",
   "execution_count": 89,
   "id": "a22db6b8",
   "metadata": {},
   "outputs": [
    {
     "name": "stdout",
     "output_type": "stream",
     "text": [
      "datscien"
     ]
    }
   ],
   "source": [
    "remdupli('datascience')"
   ]
  },
  {
   "cell_type": "markdown",
   "id": "8383f846",
   "metadata": {},
   "source": [
    "### Q.46. Implement a function to find the first missing positive"
   ]
  },
  {
   "cell_type": "code",
   "execution_count": 90,
   "id": "9635853f",
   "metadata": {},
   "outputs": [],
   "source": [
    "def findSmallestMissing(nums):\n",
    "    distinct = {*nums}\n",
    "    index = 1\n",
    "    while True:\n",
    "        if index not in distinct:\n",
    "            return index\n",
    "        index += 1"
   ]
  },
  {
   "cell_type": "code",
   "execution_count": 91,
   "id": "b7442e26",
   "metadata": {},
   "outputs": [
    {
     "data": {
      "text/plain": [
       "4"
      ]
     },
     "execution_count": 91,
     "metadata": {},
     "output_type": "execute_result"
    }
   ],
   "source": [
    "findSmallestMissing([1,3,2,-1,6])"
   ]
  },
  {
   "cell_type": "code",
   "execution_count": null,
   "id": "c3f88fe6",
   "metadata": {},
   "outputs": [],
   "source": []
  }
 ],
 "metadata": {
  "kernelspec": {
   "display_name": "Python 3 (ipykernel)",
   "language": "python",
   "name": "python3"
  },
  "language_info": {
   "codemirror_mode": {
    "name": "ipython",
    "version": 3
   },
   "file_extension": ".py",
   "mimetype": "text/x-python",
   "name": "python",
   "nbconvert_exporter": "python",
   "pygments_lexer": "ipython3",
   "version": "3.9.12"
  }
 },
 "nbformat": 4,
 "nbformat_minor": 5
}
