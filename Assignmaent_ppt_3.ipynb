{
 "cells": [
  {
   "cell_type": "markdown",
   "id": "1f613f8f",
   "metadata": {},
   "source": [
    "## Q.1.Given an integer array nums of length n and an integer target, find three integersin nums such that the sum is closest to the target.Return the sum of the three integers.You may assume that each input would have exactly one solution.\n",
    "\n",
    "Example 1:\n",
    "Input: nums = [-1,2,1,-4], target = 1\n",
    "Output: 2\n",
    "\n",
    "Explanation: The sum that is closest to the target is 2. (-1 + 2 + 1 = 2)"
   ]
  },
  {
   "cell_type": "code",
   "execution_count": 2,
   "id": "a081ee96",
   "metadata": {},
   "outputs": [],
   "source": [
    "from typing import List\n",
    "def threeSumClosest(nums: List[int], target: int) -> int:\n",
    "    nums.sort()\n",
    "    n = len(nums)\n",
    "    closest = nums[0] + nums[1] + nums[n - 1]\n",
    "    for i in range(0, n - 2):\n",
    "        j = i + 1\n",
    "        k = n - 1\n",
    "        while j < k:\n",
    "            current_sum = nums[i] + nums[j] + nums[k]\n",
    "            if current_sum <= target:\n",
    "                j += 1\n",
    "            else:\n",
    "                k -= 1\n",
    "            if abs(closest - target) > abs(current_sum - target):\n",
    "                closest = current_sum\n",
    "    return closest"
   ]
  },
  {
   "cell_type": "code",
   "execution_count": 3,
   "id": "b9a9e1ed",
   "metadata": {},
   "outputs": [
    {
     "data": {
      "text/plain": [
       "9"
      ]
     },
     "execution_count": 3,
     "metadata": {},
     "output_type": "execute_result"
    }
   ],
   "source": [
    "threeSumClosest([1,2,3,4,-5],10)"
   ]
  },
  {
   "cell_type": "markdown",
   "id": "753a1caa",
   "metadata": {},
   "source": [
    "### Time complexity : O(n)\n",
    "### Space complexity : O(1)"
   ]
  },
  {
   "cell_type": "markdown",
   "id": "9182713c",
   "metadata": {},
   "source": [
    "## ======================================="
   ]
  },
  {
   "cell_type": "markdown",
   "id": "77ca71a5",
   "metadata": {},
   "source": [
    "## Q.2.Given an array nums of n integers, return an array of all the unique quadruplets[nums[a], nums[b], nums[c], nums[d]] such that:\n",
    "           ● 0 <= a, b, c, d < n\n",
    "           ● a, b, c, and d are distinct.\n",
    "           ● nums[a] + nums[b] + nums[c] + nums[d] == target\n",
    "You may return the answer in any order.\n",
    "\n",
    "Example 1:\n",
    "Input: nums = [1,0,-1,0,-2,2], target = 0\n",
    "Output: [[-2,-1,1,2],[-2,0,0,2],[-1,0,0,1]]"
   ]
  },
  {
   "cell_type": "code",
   "execution_count": 4,
   "id": "0e1d31c5",
   "metadata": {},
   "outputs": [],
   "source": [
    "from typing import List\n",
    "def fourSum(nums: List[int], target: int) -> List[List[int]]:\n",
    "    n = len(nums) \n",
    "    st = set()\n",
    "    for i in range(n):\n",
    "        for j in range(i + 1, n):\n",
    "            for k in range(j + 1, n):\n",
    "                for l in range(k + 1, n):\n",
    "                    sum = nums[i] + nums[j]\n",
    "                    sum += nums[k]\n",
    "                    sum += nums[l]\n",
    "                    if sum == target:\n",
    "                        temp = [nums[i], nums[j], nums[k], nums[l]]\n",
    "                        temp.sort()\n",
    "                        st.add(tuple(temp))\n",
    "\n",
    "    ans = [list(x) for x in st]\n",
    "    return ans\n"
   ]
  },
  {
   "cell_type": "code",
   "execution_count": 5,
   "id": "0d17af72",
   "metadata": {},
   "outputs": [
    {
     "data": {
      "text/plain": [
       "[[-2, -1, 1, 2], [-1, 0, 0, 1], [-2, 0, 0, 2]]"
      ]
     },
     "execution_count": 5,
     "metadata": {},
     "output_type": "execute_result"
    }
   ],
   "source": [
    "fourSum([1,0,-1,0,-2,2],0)"
   ]
  },
  {
   "cell_type": "markdown",
   "id": "567fb560",
   "metadata": {},
   "source": [
    "## ======================================="
   ]
  },
  {
   "cell_type": "markdown",
   "id": "fb8b8c0e",
   "metadata": {},
   "source": [
    "## Q.3.A permutation of an array of integers is an arrangement of its members into asequence or linear order.For example, for arr = [1,2,3], the following are all the permutations of arr:[1,2,3], [1,3,2], [2, 1, 3], [2, 3, 1], [3,1,2], [3,2,1].The next permutation of an array of integers is the next lexicographically greaterpermutation of its integer. More formally, if all the permutations of the array aresorted in one container according to their lexicographical order, then the nextpermutation of that array is the permutation that follows it in the sorted container.If such an arrangement is not possible, the array must be rearranged as thelowest possible order (i.e., sorted in ascending order).\n",
    "● For example, the next permutation of arr = [1,2,3] is [1,3,2].\n",
    "\n",
    "● Similarly, the next permutation of arr = [2,3,1] is [3,1,2].\n",
    "\n",
    "● While the next permutation of arr = [3,2,1] is [1,2,3] because [3,2,1] does not\n",
    "\n",
    "have a lexicographical larger rearrangement.\n",
    "Given an array of integers nums, find the next permutation of nums.\n",
    "The replacement must be in place and use only constant extra memory.\n",
    "\n",
    "**Example 1:**\n",
    "Input: nums = [1,2,3]\n",
    "Output: [1,3,2]\n",
    "\n",
    "</aside>"
   ]
  },
  {
   "cell_type": "code",
   "execution_count": 6,
   "id": "27cf622b",
   "metadata": {},
   "outputs": [],
   "source": [
    "from typing import List\n",
    "def swapPositions(list, pos1, pos2):\n",
    "    list[pos1], list[pos2] = list[pos2], list[pos1]\n",
    "    return list\n",
    " \n",
    "# Function to find the next permutation\n",
    "def nextPermutation(arr):\n",
    "    n = len(arr)\n",
    "    i = 0\n",
    "    j = 0\n",
    "    p=[]\n",
    "    for i in range(n-2, -1, -1):\n",
    "        if (arr[i] < arr[i + 1]):\n",
    "            break\n",
    "    if (i < 0):\n",
    "        arr.reverse()\n",
    "    else:\n",
    "\n",
    "        for j in range(n-1, i, -1):\n",
    "            if (arr[j] > arr[i]):\n",
    "                break\n",
    "        swapPositions(arr, i, j)\n",
    "        strt, end = i+1, len(arr)\n",
    "        arr[strt:end] = arr[strt:end][::-1]\n",
    "        for i in arr:\n",
    "            p.append(i)\n",
    "    return p"
   ]
  },
  {
   "cell_type": "code",
   "execution_count": 7,
   "id": "9c1e2759",
   "metadata": {},
   "outputs": [
    {
     "data": {
      "text/plain": [
       "[1, 2, 4, 3, 5, 6]"
      ]
     },
     "execution_count": 7,
     "metadata": {},
     "output_type": "execute_result"
    }
   ],
   "source": [
    "nextPermutation([1,2,3,6,5,4])"
   ]
  },
  {
   "cell_type": "markdown",
   "id": "588e4f44",
   "metadata": {},
   "source": [
    "### Time Complexity : O(n)\n",
    "### Space Complexity :  O(1)"
   ]
  },
  {
   "cell_type": "markdown",
   "id": "d088022e",
   "metadata": {},
   "source": [
    "## ====================================="
   ]
  },
  {
   "cell_type": "markdown",
   "id": "5cd3208f",
   "metadata": {},
   "source": [
    "## Q.4.Given a sorted array of distinct integers and a target value, return the index if thetarget is found. If not, return the index where it would be if it were inserted inorder.You must write an algorithm with O(log n) runtime complexity.\n",
    "\n",
    "Example 1:\n",
    "Input: nums = [1,3,5,6], target = 5\n",
    "Output: 2"
   ]
  },
  {
   "cell_type": "code",
   "execution_count": 8,
   "id": "033857e4",
   "metadata": {},
   "outputs": [],
   "source": [
    " def searchInsert(nums, target):\n",
    "        # Last and First indexes\n",
    "        start = 0\n",
    "        end = len(nums) - 1\n",
    "        \n",
    "        # Traverse an array\n",
    "        while (start <= end):\n",
    "            \n",
    "            mid = (start + end)//2\n",
    "             \n",
    "            # if target value found.\n",
    "            if nums[mid] == target:\n",
    "                return mid\n",
    "            \n",
    "            # If target value is greater then mid elements's value\n",
    "            elif target > nums[mid]:\n",
    "                start = mid + 1\n",
    "                \n",
    "            # otherwise target value is less, \n",
    "            else:\n",
    "                end = mid -1\n",
    "        # Return the insertion position\n",
    "        return end + 1"
   ]
  },
  {
   "cell_type": "code",
   "execution_count": 9,
   "id": "b06612ab",
   "metadata": {},
   "outputs": [
    {
     "data": {
      "text/plain": [
       "2"
      ]
     },
     "execution_count": 9,
     "metadata": {},
     "output_type": "execute_result"
    }
   ],
   "source": [
    "searchInsert([1,3,5,6],5)"
   ]
  },
  {
   "cell_type": "markdown",
   "id": "c4c7c2fb",
   "metadata": {},
   "source": [
    "## ======================================="
   ]
  },
  {
   "cell_type": "markdown",
   "id": "98f396fd",
   "metadata": {},
   "source": [
    "## Q.5.You are given a large integer represented as an integer array digits, where eachdigits[i] is the ith digit of the integer. The digits are ordered from most significantto least significant in left-to-right order. The large integer does not contain anyleading 0's.Increment the large integer by one and return the resulting array of digits.\n",
    "\n",
    "Example 1:\n",
    "Input: digits = [1,2,3]\n",
    "Output: [1,2,4]\n"
   ]
  },
  {
   "cell_type": "code",
   "execution_count": 10,
   "id": "4ed829fd",
   "metadata": {},
   "outputs": [],
   "source": [
    "def AddOne(digits):\n",
    "    digits1=[]\n",
    "    \n",
    "    # initialize an index (digit of units)\n",
    "    index = len(digits) - 1\n",
    "      \n",
    "    # while the index is valid and the value at [index] ==\n",
    "    # 9 set it as 0\n",
    "    while (index >= 0 and digits[index] == 9):\n",
    "        digits[index] = 0\n",
    "        index -= 1\n",
    "          \n",
    "    # if index < 0 (if all digits were 9)\n",
    "    if (index < 0):\n",
    "        \n",
    "        # insert an one at the beginning of the vector\n",
    "        digits.insert(0, 1)\n",
    "          \n",
    "    # else increment the value at [index]\n",
    "    else:\n",
    "        digits[index]+=1\n",
    "    \n",
    "    for digit in digits:\n",
    "        digits1.append(digit)\n",
    "    return digits1\n",
    "\n",
    "  "
   ]
  },
  {
   "cell_type": "code",
   "execution_count": 11,
   "id": "04b8c858",
   "metadata": {},
   "outputs": [
    {
     "data": {
      "text/plain": [
       "[1, 7, 9]"
      ]
     },
     "execution_count": 11,
     "metadata": {},
     "output_type": "execute_result"
    }
   ],
   "source": [
    "AddOne([1,7,8])"
   ]
  },
  {
   "cell_type": "markdown",
   "id": "343f3aaf",
   "metadata": {},
   "source": [
    "### Time Complexity : O(n)\n",
    "### space complexity : O(1)"
   ]
  },
  {
   "cell_type": "markdown",
   "id": "0eea5828",
   "metadata": {},
   "source": [
    "## ========================================"
   ]
  },
  {
   "cell_type": "markdown",
   "id": "122bd1a3",
   "metadata": {},
   "source": [
    "## Q.6.Given a non-empty array of integers nums, every element appears twice exceptfor one. Find that single one.You must implement a solution with a linear runtime complexity and use onlyconstant extra space.\n",
    "\n",
    "Example 1:\n",
    "Input: nums = [2,2,1]\n",
    "Output: 1"
   ]
  },
  {
   "cell_type": "code",
   "execution_count": 12,
   "id": "d6a45ab7",
   "metadata": {},
   "outputs": [],
   "source": [
    "def findSingle1( ar):\n",
    "    n = len(ar)\n",
    "      \n",
    "    res = ar[0]\n",
    "      \n",
    "    # Do XOR of all elements and return\n",
    "    for i in range(1,n):\n",
    "        res = res ^ ar[i]\n",
    "      \n",
    "    return res"
   ]
  },
  {
   "cell_type": "code",
   "execution_count": 13,
   "id": "8683f20b",
   "metadata": {},
   "outputs": [
    {
     "data": {
      "text/plain": [
       "1"
      ]
     },
     "execution_count": 13,
     "metadata": {},
     "output_type": "execute_result"
    }
   ],
   "source": [
    "findSingle1([2,2,1])"
   ]
  },
  {
   "cell_type": "markdown",
   "id": "7f80eb05",
   "metadata": {},
   "source": [
    "### Time Complexity :O(n)\n",
    "### Space Complexity : O(1)"
   ]
  },
  {
   "cell_type": "markdown",
   "id": "e1ad27b3",
   "metadata": {},
   "source": [
    "## ====================================="
   ]
  },
  {
   "cell_type": "code",
   "execution_count": null,
   "id": "bf843439",
   "metadata": {},
   "outputs": [],
   "source": []
  }
 ],
 "metadata": {
  "kernelspec": {
   "display_name": "Python 3 (ipykernel)",
   "language": "python",
   "name": "python3"
  },
  "language_info": {
   "codemirror_mode": {
    "name": "ipython",
    "version": 3
   },
   "file_extension": ".py",
   "mimetype": "text/x-python",
   "name": "python",
   "nbconvert_exporter": "python",
   "pygments_lexer": "ipython3",
   "version": "3.9.12"
  }
 },
 "nbformat": 4,
 "nbformat_minor": 5
}
