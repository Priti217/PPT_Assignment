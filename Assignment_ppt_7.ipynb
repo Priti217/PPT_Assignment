{
 "cells": [
  {
   "cell_type": "markdown",
   "id": "79102e5e",
   "metadata": {},
   "source": [
    "## Q.1.Given two strings s and t, *determine if they are isomorphic*.Two strings s and t are isomorphic if the characters in s can be replaced to get t.All occurrences of a character must be replaced with another character while preserving the order of characters. No two characters may map to the same character, but a character may map to itself.\n",
    "\n",
    "**Example 1:**\n",
    "\n",
    "**Input:** s = \"egg\", t = \"add\"\n",
    "\n",
    "**Output:** true"
   ]
  },
  {
   "cell_type": "code",
   "execution_count": 1,
   "id": "b3b432e0",
   "metadata": {},
   "outputs": [],
   "source": [
    "def isisomorphic(a1,a2):\n",
    "    if len(a1)!=len(a2):\n",
    "        return False\n",
    "    else:\n",
    "        map1,map2={},{}\n",
    "        for i in range(len(a1)):\n",
    "            ch1,ch2=a1[i],a2[i]\n",
    "            if ch1 not in map1:\n",
    "                map1[ch1]=ch2\n",
    "            if ch2 not in map2:\n",
    "                map2[ch2] = ch1\n",
    "            if map1[ch1] != ch2 or map2[ch2] != ch1:\n",
    "                return False\n",
    "        return True"
   ]
  },
  {
   "cell_type": "code",
   "execution_count": 2,
   "id": "de61c4cb",
   "metadata": {},
   "outputs": [
    {
     "data": {
      "text/plain": [
       "False"
      ]
     },
     "execution_count": 2,
     "metadata": {},
     "output_type": "execute_result"
    }
   ],
   "source": [
    "isisomorphic('egg','abg')"
   ]
  },
  {
   "cell_type": "markdown",
   "id": "c8e19b00",
   "metadata": {},
   "source": [
    "### Time Complexity : O(n)\n",
    "### Space Complexity :O(1)"
   ]
  },
  {
   "cell_type": "markdown",
   "id": "84ecc36f",
   "metadata": {},
   "source": [
    "## ======================================"
   ]
  },
  {
   "cell_type": "markdown",
   "id": "a74dddfd",
   "metadata": {},
   "source": [
    "## Q.2.Given a string num which represents an integer, return true *if* num *is a **strobogrammatic number***.A **strobogrammatic number** is a number that looks the same when rotated 180 degrees (looked at upside down).\n",
    "\n",
    "**Example 1:**\n",
    "\n",
    "**Input:** num = \"69\"\n",
    "\n",
    "**Output:**\n",
    "\n",
    "true"
   ]
  },
  {
   "cell_type": "code",
   "execution_count": 3,
   "id": "f48bb281",
   "metadata": {},
   "outputs": [],
   "source": [
    "def isstrobogrammatic(num):\n",
    "    maps = {(\"0\", \"0\"), (\"1\", \"1\"), (\"6\", \"9\"), (\"8\", \"8\"), (\"9\", \"6\")}\n",
    "    i,j = 0, len(num) - 1\n",
    "    while i <= j:\n",
    "        if (num[i], num[j]) not in maps:\n",
    "            return False\n",
    "        i += 1\n",
    "        j -= 1\n",
    "    return True\n",
    "    "
   ]
  },
  {
   "cell_type": "code",
   "execution_count": 4,
   "id": "1ae891df",
   "metadata": {},
   "outputs": [
    {
     "data": {
      "text/plain": [
       "True"
      ]
     },
     "execution_count": 4,
     "metadata": {},
     "output_type": "execute_result"
    }
   ],
   "source": [
    "isstrobogrammatic('986')"
   ]
  },
  {
   "cell_type": "markdown",
   "id": "be1ee96e",
   "metadata": {},
   "source": [
    "### Time Complexity : O(n)\n",
    "### Space Complexity: O(1)"
   ]
  },
  {
   "cell_type": "markdown",
   "id": "9449869f",
   "metadata": {},
   "source": [
    "## ======================================"
   ]
  },
  {
   "cell_type": "markdown",
   "id": "6ab4dbb4",
   "metadata": {},
   "source": [
    "## Q.3 Given two non-negative integers, num1 and num2 represented as string, return *the sum of* num1 *and* num2 *as a string*.You must solve the problem without using any built-in library for handling large integers (such as BigInteger). You must also not convert the inputs to integers directly.\n",
    "\n",
    "**Example 1:**\n",
    "\n",
    "**Input:** num1 = \"11\", num2 = \"123\"\n",
    "\n",
    "**Output:**\n",
    "\n",
    "\"134\""
   ]
  },
  {
   "cell_type": "code",
   "execution_count": 5,
   "id": "0a15ed22",
   "metadata": {},
   "outputs": [],
   "source": [
    "def addStrings1(num1, num2):\n",
    "        result = \"\"\n",
    "        carry = 0\n",
    "\n",
    "        def equalizeNumberOfCharacters(num1, num2):\n",
    "            if len(num1) < len(num2):\n",
    "                while len(num1) != len(num2):\n",
    "                    num1 = \"0\" + num1\n",
    "            else:\n",
    "                while len(num2) != len(num1):\n",
    "                    num2 = \"0\" + num2\n",
    "            return [num1,num2]\n",
    "        \n",
    "        num1, num2 = equalizeNumberOfCharacters(num1, num2)\n",
    "        \n",
    "        num1Array = list(num1)\n",
    "        num2Array = list(num2)\n",
    "        \n",
    "        while len(num1Array) != 0:\n",
    "            add = int(num1Array.pop()) + int(num2Array.pop()) + int(carry)\n",
    "            carry = add // 10\n",
    "            result = str(add % 10) + result\n",
    "        \n",
    "        if carry != 0:\n",
    "            result = str(carry) + result\n",
    "        return result"
   ]
  },
  {
   "cell_type": "code",
   "execution_count": 61,
   "id": "94e74161",
   "metadata": {},
   "outputs": [
    {
     "data": {
      "text/plain": [
       "'134'"
      ]
     },
     "execution_count": 61,
     "metadata": {},
     "output_type": "execute_result"
    }
   ],
   "source": [
    "addStrings1('123','11')"
   ]
  },
  {
   "cell_type": "markdown",
   "id": "24187051",
   "metadata": {},
   "source": [
    "## ======================================"
   ]
  },
  {
   "cell_type": "markdown",
   "id": "869478ed",
   "metadata": {},
   "source": [
    "## Q.4.Given a string s, reverse the order of characters in each word within a sentence while still preserving whitespace and initial word order.\n",
    "\n",
    "**Example 1:**\n",
    "\n",
    "**Input:** s = \"Let's take LeetCode contest\"\n",
    "\n",
    "**Output:** \"s'teL ekat edoCteeL tsetnoc\""
   ]
  },
  {
   "cell_type": "code",
   "execution_count": 6,
   "id": "10427bc4",
   "metadata": {},
   "outputs": [],
   "source": [
    " def reverseWords1(s: str) -> str:\n",
    "        s = s.split()\n",
    "        s1 = ''\n",
    "        for x in range(0, len(s)):\n",
    "            if x == len(s) - 1:\n",
    "                s1 += s[x][::-1]\n",
    "            else:\n",
    "                s1 += s[x][::-1] + ' '\n",
    "        return s1    "
   ]
  },
  {
   "cell_type": "code",
   "execution_count": 7,
   "id": "3a4959f0",
   "metadata": {},
   "outputs": [
    {
     "data": {
      "text/plain": [
       "\"s'teL ekat edoCteeL tsetnoc\""
      ]
     },
     "execution_count": 7,
     "metadata": {},
     "output_type": "execute_result"
    }
   ],
   "source": [
    "reverseWords1(\"Let's take LeetCode contest\")"
   ]
  },
  {
   "cell_type": "markdown",
   "id": "5c5ad7cc",
   "metadata": {},
   "source": [
    "### Time Complexity :O(n)\n",
    "### Space Complexity :O(1)"
   ]
  },
  {
   "cell_type": "markdown",
   "id": "21b5f6b1",
   "metadata": {},
   "source": [
    "## ==================================="
   ]
  },
  {
   "cell_type": "markdown",
   "id": "e7e52327",
   "metadata": {},
   "source": [
    "## Q.5.Given a string s and an integer k, reverse the first k characters for every 2k characters counting from the start of the string.If there are fewer than k characters left, reverse all of them. If there are less than 2k but greater than or equal to k characters, then reverse the first k characters and leave the other as original.\n",
    "\n",
    "**Example 1:**\n",
    "\n",
    "**Input:** s = \"abcdefg\", k = 2\n",
    "\n",
    "**Output:**\n",
    "\n",
    "\"bacdfeg\""
   ]
  },
  {
   "cell_type": "code",
   "execution_count": 8,
   "id": "b6e57795",
   "metadata": {},
   "outputs": [],
   "source": [
    "def reverseStr(s, k):\n",
    "        sLen = len(s)\n",
    "        builder = \"\"\n",
    "        left = 0\n",
    "        rev = False\n",
    "        for i in range(sLen):\n",
    "            if i % k == 0:\n",
    "                subStr = s[left:i]\n",
    "                if rev:\n",
    "                    subStr = subStr[::-1]\n",
    "                builder += subStr\n",
    "                left = i\n",
    "                rev = not rev\n",
    "        subStr = s[left:sLen]\n",
    "        if rev:\n",
    "            subStr = subStr[::-1]\n",
    "        builder += subStr\n",
    "        return builder"
   ]
  },
  {
   "cell_type": "code",
   "execution_count": 9,
   "id": "e04f0860",
   "metadata": {},
   "outputs": [
    {
     "data": {
      "text/plain": [
       "'bacdfeg'"
      ]
     },
     "execution_count": 9,
     "metadata": {},
     "output_type": "execute_result"
    }
   ],
   "source": [
    "reverseStr('abcdefg',2)"
   ]
  },
  {
   "cell_type": "markdown",
   "id": "92b2a6ae",
   "metadata": {},
   "source": [
    "### Time Complexity : O(n)\n",
    "### Space Complexity : O(n)"
   ]
  },
  {
   "cell_type": "markdown",
   "id": "55fe3b2d",
   "metadata": {},
   "source": [
    "## ====================================="
   ]
  },
  {
   "cell_type": "markdown",
   "id": "a6ba254c",
   "metadata": {},
   "source": [
    "## Q.6.Given two strings s and goal, return true *if and only if* s *can become* goal *after some number of **shifts** on* s.A **shift** on s consists of moving the leftmost character of s to the rightmost position.\n",
    "\n",
    "- For example, if s = \"abcde\", then it will be \"bcdea\" after one shift.\n",
    "\n",
    "**Example 1:**\n",
    "\n",
    "**Input:** s = \"abcde\", goal = \"cdeab\"\n",
    "\n",
    "**Output:**\n",
    "\n",
    "true"
   ]
  },
  {
   "cell_type": "code",
   "execution_count": 10,
   "id": "b5aabc04",
   "metadata": {},
   "outputs": [],
   "source": [
    "def f1(s,goal):\n",
    "    n = len(s)\n",
    "    m=len(goal)\n",
    "    if n != m:\n",
    "        return False\n",
    "    elif (s[0]==goal[m-2]) and (s[1]==goal[m-1]):\n",
    "        return True\n",
    "    return False\n",
    "        "
   ]
  },
  {
   "cell_type": "code",
   "execution_count": 11,
   "id": "db6ba45d",
   "metadata": {},
   "outputs": [
    {
     "data": {
      "text/plain": [
       "False"
      ]
     },
     "execution_count": 11,
     "metadata": {},
     "output_type": "execute_result"
    }
   ],
   "source": [
    "f1('ABCD','ACBD')"
   ]
  },
  {
   "cell_type": "markdown",
   "id": "69e517f4",
   "metadata": {},
   "source": [
    "### Time Compleaxity: O(n)\n",
    "### Space Compleaxity : O(1)"
   ]
  },
  {
   "cell_type": "markdown",
   "id": "8df1fd92",
   "metadata": {},
   "source": [
    "## ======================================"
   ]
  },
  {
   "cell_type": "markdown",
   "id": "78f4ac34",
   "metadata": {},
   "source": [
    "## Q.7.Given two strings s and t, return true *if they are equal when both are typed into empty text editors*. '#' means a backspace character.Note that after backspacing an empty text, the text will continue empty.\n",
    "\n",
    "**Example 1:**\n",
    "\n",
    "**Input:** s = \"ab#c\", t = \"ad#c\"\n",
    "\n",
    "**Output:** true\n",
    "\n",
    "**Explanation:**\n",
    "\n",
    "Both s and t become \"ac"
   ]
  },
  {
   "cell_type": "code",
   "execution_count": 12,
   "id": "d0318e90",
   "metadata": {},
   "outputs": [],
   "source": [
    "def backspace(s,t):\n",
    "    a=[]\n",
    "    b=[]\n",
    "    for i in s:\n",
    "        if i != '#':\n",
    "            a.append(i)\n",
    "    for j in t:\n",
    "        if j!='#':\n",
    "            b.append(j)\n",
    "    if len(a) == len(b):\n",
    "        return True\n",
    "    else:\n",
    "        return False"
   ]
  },
  {
   "cell_type": "code",
   "execution_count": 127,
   "id": "60820b6a",
   "metadata": {},
   "outputs": [
    {
     "data": {
      "text/plain": [
       "True"
      ]
     },
     "execution_count": 127,
     "metadata": {},
     "output_type": "execute_result"
    }
   ],
   "source": [
    "backspace('ab#c','ad#c')"
   ]
  },
  {
   "cell_type": "markdown",
   "id": "c2c112b8",
   "metadata": {},
   "source": [
    "## ======================================"
   ]
  },
  {
   "cell_type": "markdown",
   "id": "e2cf932b",
   "metadata": {},
   "source": [
    "## Q.8.You are given an array coordinates, coordinates[i] = [x, y], where [x, y] represents the coordinate of a point. Check if these points make a straight line in the XY plane.\n",
    "\n",
    "**Example 1:**\n",
    "**Input:** coordinates = [[1,2],[2,3],[3,4],[4,5],[5,6],[6,7]]\n",
    "\n",
    "**Output:** true"
   ]
  },
  {
   "cell_type": "code",
   "execution_count": 13,
   "id": "28b16486",
   "metadata": {},
   "outputs": [],
   "source": [
    "def g1 (d1):\n",
    "    n=[]\n",
    "    k=0\n",
    "    for i in d1:\n",
    "        if len(i)==2:\n",
    "            n.append(i[1]-i[0])\n",
    "    for j in n:\n",
    "            if 0 in n:\n",
    "                return False\n",
    "            return True\n",
    "\n",
    "            "
   ]
  },
  {
   "cell_type": "code",
   "execution_count": 14,
   "id": "7765e8ba",
   "metadata": {},
   "outputs": [
    {
     "data": {
      "text/plain": [
       "False"
      ]
     },
     "execution_count": 14,
     "metadata": {},
     "output_type": "execute_result"
    }
   ],
   "source": [
    "g1([[1,1],[2,2],[3,4],[4,5],[5,6],[7,7]])"
   ]
  },
  {
   "cell_type": "markdown",
   "id": "42464da6",
   "metadata": {},
   "source": [
    "### Time Complexity : O(n)\n",
    "### Space Complexity : O(1)"
   ]
  },
  {
   "cell_type": "code",
   "execution_count": null,
   "id": "07854733",
   "metadata": {},
   "outputs": [],
   "source": []
  }
 ],
 "metadata": {
  "kernelspec": {
   "display_name": "Python 3 (ipykernel)",
   "language": "python",
   "name": "python3"
  },
  "language_info": {
   "codemirror_mode": {
    "name": "ipython",
    "version": 3
   },
   "file_extension": ".py",
   "mimetype": "text/x-python",
   "name": "python",
   "nbconvert_exporter": "python",
   "pygments_lexer": "ipython3",
   "version": "3.9.12"
  }
 },
 "nbformat": 4,
 "nbformat_minor": 5
}
